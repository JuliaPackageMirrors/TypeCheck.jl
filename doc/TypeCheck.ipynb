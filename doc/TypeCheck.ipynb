{
 "metadata": {
  "language": "Julia",
  "name": ""
 },
 "nbformat": 3,
 "nbformat_minor": 0,
 "worksheets": [
  {
   "cells": [
    {
     "cell_type": "heading",
     "level": 1,
     "metadata": {},
     "source": [
      "A Summary of Julia"
     ]
    },
    {
     "cell_type": "markdown",
     "metadata": {},
     "source": [
      "Julia is a new language designed for technical computing.\n",
      "It is as easy to use and general-purpose as Python,\n",
      "but designed for fast computation, low-level control, and easy to express math.\n",
      "Julia is high-performance, dynamically-typed, and JIT-compiled.\n",
      "It is not focused on new ideas, but on executing existing ideas well, with a focus on being practical and approachable.\n",
      "As a language, some of Julia's distinctive features include multiple dispatch, first-class types, and Lisp-style macros."
     ]
    },
    {
     "cell_type": "heading",
     "level": 2,
     "metadata": {},
     "source": [
      "The Julia Type System"
     ]
    },
    {
     "cell_type": "markdown",
     "metadata": {},
     "source": [
      "Every value in Julia has a type; variables contain values, but do not themselves have types.\n",
      "Types are arranged into a hierarchy of abstract and concrete types.\n",
      "Abstract types can have subtypes, but cannot be instantiated and do not have properties.\n",
      "Concrete types can be instantiated and have zero or more properties, but cannot have subtypes.\n",
      "Every type has a super type.\n",
      "At top of the hierarchy is the `Any` type; the super type of `Any` is `Any`.\n",
      "\n",
      "In Julia, types are first-class; types are of type DataType, which is itself of type DataType.\n",
      "Types are used for inference, optimization, dispatch, and documentation, but not for type checking.\n",
      "Because Julia still works (but more slowly) without any type inference, all of the type inference is implemented in the language.\n",
      "\n",
      "Types can also take parameters; these can be types or `Int`s. For example, `Array{T,N}` is parameterized by the element type and the number of dimensions. Instances of the same type (such as `Array`) with different type parameters (say `Array{Int,6}` and `Array{Number,4}`) are never subtypes of one another."
     ]
    },
    {
     "cell_type": "markdown",
     "metadata": {},
     "source": [
      "To define a type, you use the `type` keyword:"
     ]
    },
    {
     "cell_type": "code",
     "collapsed": false,
     "input": [
      "type Point{T <: Number}\n",
      "    x::T\n",
      "    y::T\n",
      "end"
     ],
     "language": "python",
     "metadata": {},
     "outputs": [],
     "prompt_number": 1
    },
    {
     "cell_type": "markdown",
     "metadata": {},
     "source": [
      "The Point{T} type will have two properties, `x` and `y`. For any `Point`, the two properties will share a type, and their type will be a subtype of `Number`. From the definition, we also know that when a `Point` is represented in memory, `x` will precede `y`. Julia types are laid out in memory in a way compatible with C structs, which made implementing Julia's C calling functionality easier (and the result more efficient)."
     ]
    },
    {
     "cell_type": "heading",
     "level": 2,
     "metadata": {},
     "source": [
      "Introspection in Julia"
     ]
    },
    {
     "cell_type": "markdown",
     "metadata": {},
     "source": [
      "Julia has admirable introspection and reflection abilities, which are very useful for writing static analysis.\n",
      "For any named function, you can get a type-inferred AST with a simple function call:"
     ]
    },
    {
     "cell_type": "code",
     "collapsed": false,
     "input": [
      "function foo(x::Int)\n",
      "    z = x + 5\n",
      "    return 2 * z\n",
      "end\n",
      "\n",
      "code_typed(foo,(Int,))"
     ],
     "language": "python",
     "metadata": {},
     "outputs": [
      {
       "metadata": {},
       "output_type": "pyout",
       "prompt_number": 2,
       "text": [
        "1-element Array{Any,1}:\n",
        " :($(Expr(:lambda, {:x}, {{:z},{{:x,Int64,0},{:z,Int64,18}},{}}, quote  # In[2], line 2:\n",
        "        z = top(box)(Int64,top(add_int)(x::Int64,5))::Int64 # line 3:\n",
        "        return top(box)(Int64,top(mul_int)(2,z::Int64))::Int64\n",
        "    end)))"
       ]
      }
     ],
     "prompt_number": 2
    },
    {
     "cell_type": "markdown",
     "metadata": {},
     "source": [
      "The `code_typed` function takes a function and a method signature.\n",
      "Every named function is a generic function: it has one or more methods, each with their own type signature.\n",
      "Julia uses multiple dispatch, which means that it considers the type, number, and order of all the arguments to pick the best match to a call.\n",
      "\n",
      "`code_typed` returns an  untyped `Array` of `Expr`s, the type that represents a node of the Julia AST.\n",
      "For many invocations, this `Array` will only have one element. When the provided signature could match more than one existing method, all possible matches are returned. \"Possible\" matches occur when you pass an abstract type as part of the signature and some methods of the function accept subtypes of that type. The type of an actual value is always concrete, so the method that would actually get called would vary."
     ]
    },
    {
     "cell_type": "code",
     "collapsed": false,
     "input": [
      "e = code_typed(foo,(Int,))[1] #Julia indexes from 1"
     ],
     "language": "python",
     "metadata": {},
     "outputs": [
      {
       "metadata": {},
       "output_type": "pyout",
       "prompt_number": 3,
       "text": [
        ":($(Expr(:lambda, {:x}, {{:z},{{:x,Int64,0},{:z,Int64,18}},{}}, quote  # In[2], line 2:\n",
        "        z = top(box)(Int64,top(add_int)(x::Int64,5))::Int64 # line 3:\n",
        "        return top(box)(Int64,top(mul_int)(2,z::Int64))::Int64\n",
        "    end)))"
       ]
      }
     ],
     "prompt_number": 3
    },
    {
     "cell_type": "markdown",
     "metadata": {},
     "source": [
      "An `Expr` has three fields: `head`, `args`, and `typ`."
     ]
    },
    {
     "cell_type": "code",
     "collapsed": false,
     "input": [
      "names(e)"
     ],
     "language": "python",
     "metadata": {},
     "outputs": [
      {
       "metadata": {},
       "output_type": "pyout",
       "prompt_number": 4,
       "text": [
        "3-element Array{Symbol,1}:\n",
        " :head\n",
        " :args\n",
        " :typ "
       ]
      }
     ],
     "prompt_number": 4
    },
    {
     "cell_type": "markdown",
     "metadata": {},
     "source": [
      "* `head` is a symbol indicating the type of expression. For `Expr`s returned by `code_typed`, this will be `:lambda`. (In Julia, `:foo` is a way to write \"the symbol `foo`\".)\n",
      "* `typ` is the return type of the method.\n",
      "* `args` is an `Array` of `Array`s. It contains information about the variables (local, arguments, captured) and body of the function. I'll explain more about the structure of `args` as needed in the rest of this document."
     ]
    },
    {
     "cell_type": "heading",
     "level": 2,
     "metadata": {},
     "source": [
      "Helper Functions"
     ]
    },
    {
     "cell_type": "markdown",
     "metadata": {},
     "source": [
      "While introspecting on functions is surprisingly easy, there is a lot of ugly code created by the unfortunate structure of the `Expr` type. As a result, I will start by describing a number of helper functions, which will give you a better idea of how it is structured."
     ]
    },
    {
     "cell_type": "heading",
     "level": 3,
     "metadata": {},
     "source": [
      "A Function to Retrieve Return Types"
     ]
    },
    {
     "cell_type": "markdown",
     "metadata": {},
     "source": [
      "`code_typed` returns `Expr`s that have lots of type annotations, including the return type of the function.\n",
      "The outer `Expr` with `head` `:lambda` will have `typ` `Any`.\n",
      "The third element of `args` will be another `Expr` with `head` `:body`.\n",
      "The `typ` property of this Expr will be set to the inferred return type of the function. (There is currently no syntax in Julia to annotate function return types.)"
     ]
    },
    {
     "cell_type": "code",
     "collapsed": false,
     "input": [
      "code_typed(foo,(Int,))[1].args[3].typ"
     ],
     "language": "python",
     "metadata": {},
     "outputs": [
      {
       "metadata": {},
       "output_type": "pyout",
       "prompt_number": 5,
       "text": [
        "Int64"
       ]
      }
     ],
     "prompt_number": 5
    },
    {
     "cell_type": "markdown",
     "metadata": {},
     "source": [
      "Because this is not especially readable, I wrote a helper function to pull out the return type:"
     ]
    },
    {
     "cell_type": "code",
     "collapsed": false,
     "input": [
      "returntype(e::Expr) =  e.args[3].typ"
     ],
     "language": "python",
     "metadata": {},
     "outputs": [
      {
       "metadata": {},
       "output_type": "pyout",
       "prompt_number": 6,
       "text": [
        "returntype (generic function with 1 method)"
       ]
      }
     ],
     "prompt_number": 6
    },
    {
     "cell_type": "heading",
     "level": 4,
     "metadata": {},
     "source": [
      "Usage examples:"
     ]
    },
    {
     "cell_type": "markdown",
     "metadata": {},
     "source": [
      "For a call to `code_typed` that we know will have one method returned:"
     ]
    },
    {
     "cell_type": "code",
     "collapsed": false,
     "input": [
      "returntype(code_typed(foo,(Int,))[1])"
     ],
     "language": "python",
     "metadata": {},
     "outputs": [
      {
       "metadata": {},
       "output_type": "pyout",
       "prompt_number": 7,
       "text": [
        "Int64"
       ]
      }
     ],
     "prompt_number": 7
    },
    {
     "cell_type": "markdown",
     "metadata": {},
     "source": [
      "For calls that might have more than one result:"
     ]
    },
    {
     "cell_type": "code",
     "collapsed": false,
     "input": [
      "Type[returntype(t) for t in code_typed(+,(Number,))]"
     ],
     "language": "python",
     "metadata": {},
     "outputs": [
      {
       "metadata": {},
       "output_type": "pyout",
       "prompt_number": 8,
       "text": [
        "2-element Array{Type{T<:Top},1}:\n",
        " Int64 \n",
        " Number"
       ]
      }
     ],
     "prompt_number": 8
    },
    {
     "cell_type": "code",
     "collapsed": false,
     "input": [
      "map(returntype,code_typed(+,(Any,Any,Any)))"
     ],
     "language": "python",
     "metadata": {},
     "outputs": [
      {
       "metadata": {},
       "output_type": "pyout",
       "prompt_number": 9,
       "text": [
        "3-element Array{Any,1}:\n",
        " BigInt  \n",
        " BigFloat\n",
        " Any     "
       ]
      }
     ],
     "prompt_number": 9
    },
    {
     "cell_type": "heading",
     "level": 3,
     "metadata": {},
     "source": [
      "A Function to Retrieve All Expression in the Function Body"
     ]
    },
    {
     "cell_type": "markdown",
     "metadata": {},
     "source": [
      "The inner `Expr` with head `:body` contains the body of the function: its `args` is an array of `Expr`s.\n",
      "This is another convenience function to make the code more readable."
     ]
    },
    {
     "cell_type": "code",
     "collapsed": false,
     "input": [
      "body(e::Expr) = e.args[3].args"
     ],
     "language": "python",
     "metadata": {},
     "outputs": [
      {
       "metadata": {},
       "output_type": "pyout",
       "prompt_number": 10,
       "text": [
        "body (generic function with 1 method)"
       ]
      }
     ],
     "prompt_number": 10
    },
    {
     "cell_type": "markdown",
     "metadata": {},
     "source": [
      "It is used analogously to `returntype` above."
     ]
    },
    {
     "cell_type": "code",
     "collapsed": false,
     "input": [
      "body(code_typed(foo,(Int,))[1])"
     ],
     "language": "python",
     "metadata": {},
     "outputs": [
      {
       "metadata": {},
       "output_type": "pyout",
       "prompt_number": 11,
       "text": [
        "4-element Array{Any,1}:\n",
        " :( # In[2], line 2:)                                     \n",
        " :(z = top(box)(Int64,top(add_int)(x::Int64,5))::Int64)   \n",
        " :( # line 3:)                                            \n",
        " :(return top(box)(Int64,top(mul_int)(2,z::Int64))::Int64)"
       ]
      }
     ],
     "prompt_number": 11
    },
    {
     "cell_type": "heading",
     "level": 3,
     "metadata": {},
     "source": [
      "A Function to Retrieve All Return Statements From a Function"
     ]
    },
    {
     "cell_type": "markdown",
     "metadata": {},
     "source": [
      "`Expr`s that represent return statements have `head` set to `:return`, so the below function pulls them out of the body."
     ]
    },
    {
     "cell_type": "code",
     "collapsed": false,
     "input": [
      "returns(e::Expr) = filter(x-> typeof(x) == Expr && x.head==:return,body(e))"
     ],
     "language": "python",
     "metadata": {},
     "outputs": [
      {
       "metadata": {},
       "output_type": "pyout",
       "prompt_number": 12,
       "text": [
        "returns (generic function with 1 method)"
       ]
      }
     ],
     "prompt_number": 12
    },
    {
     "cell_type": "code",
     "collapsed": false,
     "input": [
      "returns(code_typed(foo,(Int,))[1])"
     ],
     "language": "python",
     "metadata": {},
     "outputs": [
      {
       "metadata": {},
       "output_type": "pyout",
       "prompt_number": 13,
       "text": [
        "1-element Array{Any,1}:\n",
        " :(return top(box)(Int64,top(mul_int)(2,z::Int64))::Int64)"
       ]
      }
     ],
     "prompt_number": 13
    },
    {
     "cell_type": "code",
     "collapsed": false,
     "input": [
      "function barr(x::Int)\n",
      "    x + 2\n",
      "end\n",
      "\n",
      "returns(code_typed(barr,(Int,))[1])"
     ],
     "language": "python",
     "metadata": {},
     "outputs": [
      {
       "metadata": {},
       "output_type": "pyout",
       "prompt_number": 14,
       "text": [
        "1-element Array{Any,1}:\n",
        " :(return top(box)(Int64,top(add_int)(x::Int64,2))::Int64)"
       ]
      }
     ],
     "prompt_number": 14
    },
    {
     "cell_type": "markdown",
     "metadata": {},
     "source": [
      "Notice that we still get a `:return`, even if we don't use the keyword `return`. The last expression in a function becomes the return value if there is no `return`, and this is expressed in the AST by desugaring to a normal `:return`."
     ]
    },
    {
     "cell_type": "heading",
     "level": 3,
     "metadata": {},
     "source": [
      "Other Helper Functions"
     ]
    },
    {
     "cell_type": "markdown",
     "metadata": {},
     "source": [
      "My project resulted in the `TypeCheck.jl` package for Julia. It is unlikely to be worth the space to explain the implementation of all the other helper functions I wrote here. I'll use functions from `TypeCheck` later, with comments explaining briefly what they do."
     ]
    },
    {
     "cell_type": "heading",
     "level": 1,
     "metadata": {},
     "source": [
      "Checking for Stable Return Types"
     ]
    },
    {
     "cell_type": "markdown",
     "metadata": {},
     "source": [
      "It is good style in Julia for the return type of a method to only depend on the types of the arguments and not on their values.\n",
      "This stability makes behavior more predictable for programmers.\n",
      "It also allows type inference to work better -- stable types on called methods allows stable types on the variables you put the return values into."
     ]
    },
    {
     "cell_type": "markdown",
     "metadata": {},
     "source": [
      "The following method is a simple example of an unstable return type.\n",
      "Sometimes it returns an `Int` and sometimes a `Bool`.\n",
      "The return type of this method would be inferred as `Union(Int64,Bool)`."
     ]
    },
    {
     "cell_type": "code",
     "collapsed": false,
     "input": [
      "function unstable(x::Int)\n",
      "  if x > 5\n",
      "    return x\n",
      "  else\n",
      "    return false\n",
      "  end\n",
      "end"
     ],
     "language": "python",
     "metadata": {},
     "outputs": [
      {
       "metadata": {},
       "output_type": "pyout",
       "prompt_number": 25,
       "text": [
        "unstable (generic function with 1 method)"
       ]
      }
     ],
     "prompt_number": 25
    },
    {
     "cell_type": "code",
     "collapsed": false,
     "input": [
      "unstable(5)"
     ],
     "language": "python",
     "metadata": {},
     "outputs": [
      {
       "metadata": {},
       "output_type": "pyout",
       "prompt_number": 26,
       "text": [
        "false"
       ]
      }
     ],
     "prompt_number": 26
    },
    {
     "cell_type": "code",
     "collapsed": false,
     "input": [
      "unstable(1337)"
     ],
     "language": "python",
     "metadata": {},
     "outputs": [
      {
       "metadata": {},
       "output_type": "pyout",
       "prompt_number": 27,
       "text": [
        "1337"
       ]
      }
     ],
     "prompt_number": 27
    },
    {
     "cell_type": "markdown",
     "metadata": {},
     "source": [
      "Until now, there has been no way to automatically check that methods do not behave in this way.\n",
      "Julia's base library is mostly free of this, through the use of code review.\n",
      "While there are instances of instability, they tend to be less obvious -- they stem especially from retrieving data from untyped storage, from some interfaces to other environments, or from places where it is necessary (higher-level functions)."
     ]
    },
    {
     "cell_type": "markdown",
     "metadata": {},
     "source": [
      "I have written a static checker to detect that this invariant may be violated. It's not perfect."
     ]
    },
    {
     "cell_type": "heading",
     "level": 3,
     "metadata": {},
     "source": [
      "True Positive:"
     ]
    },
    {
     "cell_type": "code",
     "collapsed": false,
     "input": [
      "TypeCheck.check_return_types(unstable)"
     ],
     "language": "python",
     "metadata": {},
     "outputs": [
      {
       "metadata": {},
       "output_type": "display_data",
       "text": [
        "(Int64)::Union(Int64,Bool)\n"
       ]
      },
      {
       "metadata": {},
       "output_type": "pyout",
       "prompt_number": 28,
       "text": [
        "unstable"
       ]
      }
     ],
     "prompt_number": 28
    },
    {
     "cell_type": "code",
     "collapsed": false,
     "input": [
      "foo1(x::Int) = isprime(x) ? x: false\n",
      "TypeCheck.check_return_types(foo1) # lists the method signatures & return types that failed"
     ],
     "language": "python",
     "metadata": {},
     "outputs": [
      {
       "metadata": {},
       "output_type": "display_data",
       "text": [
        "(Int64)::Union(Int64,Bool)\n"
       ]
      },
      {
       "metadata": {},
       "output_type": "pyout",
       "prompt_number": 32,
       "text": [
        "foo1"
       ]
      }
     ],
     "prompt_number": 32
    },
    {
     "cell_type": "heading",
     "level": 3,
     "metadata": {},
     "source": [
      "False Negative:"
     ]
    },
    {
     "cell_type": "code",
     "collapsed": false,
     "input": [
      "foo2(x) = isprime(x) ? x : false\n",
      "check_return_types(foo2) # no printing means it passed"
     ],
     "language": "python",
     "metadata": {},
     "outputs": [
      {
       "metadata": {},
       "output_type": "pyout",
       "prompt_number": 31,
       "text": []
      }
     ],
     "prompt_number": 31
    },
    {
     "cell_type": "heading",
     "level": 2,
     "metadata": {},
     "source": [
      "Deciding Whether the Return Type is Probably Stable"
     ]
    },
    {
     "cell_type": "markdown",
     "metadata": {},
     "source": [
      "If the types of an argument to a method are all concrete, then the return type should also be concrete."
     ]
    },
    {
     "cell_type": "heading",
     "level": 3,
     "metadata": {},
     "source": [
      "Concrete, Abstract, and Union Types"
     ]
    },
    {
     "cell_type": "markdown",
     "metadata": {},
     "source": [
      "I've already mentioned concrete and abstract types, which are the leaves and internal nodes of the type hierarchy, respectively. Union types are collection of types. They are similar to abstract types in that they have subtypes, but they do not have names and do not alter the type hierarchy. Union types provide a way to say \"Any of these types or their subtypes\"."
     ]
    },
    {
     "cell_type": "code",
     "collapsed": false,
     "input": [
      "[Int, String, Union(Float64,UTF8String)]"
     ],
     "language": "python",
     "metadata": {},
     "outputs": [
      {
       "metadata": {},
       "output_type": "pyout",
       "prompt_number": 18,
       "text": [
        "3-element Array{Type{T<:Top},1}:\n",
        " Int64                    \n",
        " String                   \n",
        " Union(UTF8String,Float64)"
       ]
      }
     ],
     "prompt_number": 18
    },
    {
     "cell_type": "markdown",
     "metadata": {},
     "source": [
      "Unlike concrete and abstract types, union types are not represented by `DataType`; they have their own type, `UnionType`."
     ]
    },
    {
     "cell_type": "code",
     "collapsed": false,
     "input": [
      "[typeof(x) for x in ans]"
     ],
     "language": "python",
     "metadata": {},
     "outputs": [
      {
       "metadata": {},
       "output_type": "pyout",
       "prompt_number": 19,
       "text": [
        "3-element Array{Type{_},1}:\n",
        " DataType \n",
        " DataType \n",
        " UnionType"
       ]
      }
     ],
     "prompt_number": 19
    },
    {
     "cell_type": "markdown",
     "metadata": {},
     "source": [
      "There is a convenient function for differetiating between concrete types and all other types: `isleaftype`.\n",
      "It returns true for concrete types (the leaves of the type hierarchy) and false for abstract types and union types."
     ]
    },
    {
     "cell_type": "code",
     "collapsed": false,
     "input": [
      "isleaftype(Uint128)"
     ],
     "language": "python",
     "metadata": {},
     "outputs": [
      {
       "metadata": {},
       "output_type": "pyout",
       "prompt_number": 20,
       "text": [
        "true"
       ]
      }
     ],
     "prompt_number": 20
    },
    {
     "cell_type": "code",
     "collapsed": false,
     "input": [
      "isleaftype(String)"
     ],
     "language": "python",
     "metadata": {},
     "outputs": [
      {
       "metadata": {},
       "output_type": "pyout",
       "prompt_number": 21,
       "text": [
        "false"
       ]
      }
     ],
     "prompt_number": 21
    },
    {
     "cell_type": "code",
     "collapsed": false,
     "input": [
      "isleaftype(Union(Int,Float32,ASCIIString))"
     ],
     "language": "python",
     "metadata": {},
     "outputs": [
      {
       "metadata": {},
       "output_type": "pyout",
       "prompt_number": 22,
       "text": [
        "false"
       ]
      }
     ],
     "prompt_number": 22
    },
    {
     "cell_type": "heading",
     "level": 3,
     "metadata": {},
     "source": [
      "The Basic Check"
     ]
    },
    {
     "cell_type": "markdown",
     "metadata": {},
     "source": [
      "Given an `Expr` from `code_typed`, we want to grab the types of the arguments and the return type.\n",
      "If the return type is concrete, then everything is fine: a concrete type can't be unstable.\n",
      "If the return type is not concrete and at least one argument is not concrete, then I don't warn about that method: the cause could be the possible types of the non-concrete argument types."
     ]
    },
    {
     "cell_type": "code",
     "collapsed": false,
     "input": [
      "using TypeCheck\n",
      "function isreturnbasedonvalues(e::Expr)\n",
      "  rt = returntype(e)\n",
      "  ts = TypeCheck.argtypes(e) #the type of each argument in e's type signature\n",
      "\n",
      "  if isleaftype(rt) || rt == None\n",
      "    return false\n",
      "  end\n",
      "\n",
      "  for t in ts\n",
      "   if !isleaftype(t)\n",
      "     return false\n",
      "   end\n",
      "  end\n",
      "\n",
      "  return true # return is not concrete type; all args are concrete types\n",
      "end"
     ],
     "language": "python",
     "metadata": {},
     "outputs": [
      {
       "metadata": {},
       "output_type": "pyout",
       "prompt_number": 23,
       "text": [
        "isreturnbasedonvalues (generic function with 1 method)"
       ]
      }
     ],
     "prompt_number": 23
    },
    {
     "cell_type": "code",
     "collapsed": false,
     "input": [
      "isreturnbasedonvalues(code_typed(unstable,(Int,))[1])"
     ],
     "language": "python",
     "metadata": {},
     "outputs": [
      {
       "metadata": {},
       "output_type": "pyout",
       "prompt_number": 24,
       "text": [
        "true"
       ]
      }
     ],
     "prompt_number": 24
    },
    {
     "cell_type": "code",
     "collapsed": false,
     "input": [
      "isreturnbasedonvalues(code_typed(foo,(Int,))[1])"
     ],
     "language": "python",
     "metadata": {},
     "outputs": [
      {
       "metadata": {},
       "output_type": "pyout",
       "prompt_number": 25,
       "text": [
        "false"
       ]
      }
     ],
     "prompt_number": 25
    },
    {
     "cell_type": "markdown",
     "metadata": {},
     "source": [
      "While this check works on simple examples, it tends to have many false-positives when running on large modules, such as the standard library."
     ]
    },
    {
     "cell_type": "heading",
     "level": 2,
     "metadata": {},
     "source": [
      "Preventing One Unstable Function from Spawning Many More Warnings"
     ]
    },
    {
     "cell_type": "markdown",
     "metadata": {},
     "source": [
      "With the simple function above, I get a lot of warnings on the base library. When I dug into the causes of some of them, there was a frequent pattern. Many functions would trigger warnings because their return type depended on a call to another function. A small handful of functions would actually need changes to become type-stable, but they are lost in the sea of their users.\n",
      "\n",
      "These users are sort of \"semi-false-positives\": their return type is actually unstable, but it's not their fault -- and the change probably shouldn't happen there. Most of these functions can be filtered out by looking at the `:return`s in the function body and letting them pass if their return type is determined by `:call`s to other functions (which are unstable).\n",
      "\n",
      "To be more specific, if `foo` calls `barr`, and `barr` is unstable, then I would like to only warn the user about `barr`, not about `foo`. This simple check will only work if `foo`'s final expression or `return` expression is a call to `barr`. Somewhat surprisingly, this seems to work for basically all of the standard library."
     ]
    },
    {
     "cell_type": "heading",
     "level": 3,
     "metadata": {},
     "source": [
      "A Example of Return Type Propogation"
     ]
    },
    {
     "cell_type": "markdown",
     "metadata": {},
     "source": [
      "Here, `f1` is unstable. We should make a change to `f1` if we want it's return type to be stable. `isreturntypebasedonvalues` would also warn about `f2`. However, `f2` just calls `f1`, so there's not necessarily a change to be made to `f2`."
     ]
    },
    {
     "cell_type": "code",
     "collapsed": false,
     "input": [
      "f1(x::Int) = x == 5 ? 42 : pi\n",
      "returntype(code_typed(f1,(Int,))[1])"
     ],
     "language": "python",
     "metadata": {},
     "outputs": [
      {
       "metadata": {},
       "output_type": "pyout",
       "prompt_number": 31,
       "text": [
        "Union(Int64,MathConst{:\u03c0})"
       ]
      }
     ],
     "prompt_number": 31
    },
    {
     "cell_type": "code",
     "collapsed": false,
     "input": [
      "f2(y::Int) = f1(y + 2)\n",
      "returntype(code_typed(f2,(Int,))[1])"
     ],
     "language": "python",
     "metadata": {},
     "outputs": [
      {
       "metadata": {},
       "output_type": "pyout",
       "prompt_number": 32,
       "text": [
        "Union(Int64,MathConst{:\u03c0})"
       ]
      }
     ],
     "prompt_number": 32
    },
    {
     "cell_type": "heading",
     "level": 3,
     "metadata": {},
     "source": [
      "Preventing Propogation"
     ]
    },
    {
     "cell_type": "markdown",
     "metadata": {},
     "source": [
      "We can add this to `isreturntypebasedonvalues` by giving failing functions a second chance. This means we can add another check after the loop that looks for non-concrete argument types."
     ]
    },
    {
     "cell_type": "code",
     "collapsed": false,
     "input": [
      "function isreturnbasedonvalues(e::Expr)\n",
      "    rt = returntype(e)\n",
      "    ts = TypeCheck.argtypes(e)\n",
      "\n",
      "    if isleaftype(rt) || rt == None\n",
      "      return false\n",
      "    end\n",
      "    for t in ts\n",
      "     if !isleaftype(t)\n",
      "       return false\n",
      "     end\n",
      "    end\n",
      "\n",
      "    #a second chance\n",
      "    #cs is a list of return types for calls in :return exprs in e's body\n",
      "    cs = [TypeCheck.find_returntype(c,e) for c in TypeCheck.extract_calls_from_returns(e)]\n",
      "    for c in cs\n",
      "     if rt == c #if e's return type is the same as a call it's making, then it passes\n",
      "         return false\n",
      "      end\n",
      "    end\n",
      "\n",
      "    return true #e fails the test\n",
      "  end"
     ],
     "language": "python",
     "metadata": {},
     "outputs": [
      {
       "metadata": {},
       "output_type": "pyout",
       "prompt_number": 41,
       "text": [
        "isreturnbasedonvalues (generic function with 1 method)"
       ]
      }
     ],
     "prompt_number": 41
    },
    {
     "cell_type": "markdown",
     "metadata": {},
     "source": [
      "Above, I use two new helper functions `find_returntype` and `extract_calls_from_returns`.\n",
      "`extract_calls_from_returns` is not expecially interesting; it just examines the insides of `:return` `Expr`s for `:call` `Expr`s.\n",
      "`find_returntype` is more interesting, and I will explain it below."
     ]
    },
    {
     "cell_type": "heading",
     "level": 4,
     "metadata": {},
     "source": [
      "Results:"
     ]
    },
    {
     "cell_type": "code",
     "collapsed": false,
     "input": [
      "isreturnbasedonvalues(code_typed(foo,(Int,))[1]) #passes"
     ],
     "language": "python",
     "metadata": {},
     "outputs": [
      {
       "metadata": {},
       "output_type": "pyout",
       "prompt_number": 37,
       "text": [
        "false"
       ]
      }
     ],
     "prompt_number": 37
    },
    {
     "cell_type": "code",
     "collapsed": false,
     "input": [
      "isreturnbasedonvalues(code_typed(f1,(Int,))[1]) #fails"
     ],
     "language": "python",
     "metadata": {},
     "outputs": [
      {
       "metadata": {},
       "output_type": "pyout",
       "prompt_number": 38,
       "text": [
        "true"
       ]
      }
     ],
     "prompt_number": 38
    },
    {
     "cell_type": "code",
     "collapsed": false,
     "input": [
      "isreturnbasedonvalues(code_typed(f2,(Int,))[1]) #passes"
     ],
     "language": "python",
     "metadata": {},
     "outputs": [
      {
       "metadata": {},
       "output_type": "pyout",
       "prompt_number": 40,
       "text": [
        "false"
       ]
      }
     ],
     "prompt_number": 40
    },
    {
     "cell_type": "heading",
     "level": 2,
     "metadata": {},
     "source": [
      "Determining the Return Type of a `:call`"
     ]
    },
    {
     "cell_type": "markdown",
     "metadata": {},
     "source": [
      "Here, we start with the output of `extract_calls_from_returns`."
     ]
    },
    {
     "cell_type": "code",
     "collapsed": false,
     "input": [
      "cs = TypeCheck.extract_calls_from_returns(code_typed(f2,(Int,))[1])"
     ],
     "language": "python",
     "metadata": {},
     "outputs": [
      {
       "metadata": {},
       "output_type": "pyout",
       "prompt_number": 44,
       "text": [
        "1-element Array{Expr,1}:\n",
        " :(f1(top(box)(Int64,top(add_int)(y::Int64,2))::Int64)::Union(Int64,MathConst{:\u03c0}))"
       ]
      }
     ],
     "prompt_number": 44
    },
    {
     "cell_type": "markdown",
     "metadata": {},
     "source": [
      "From this, we need to extract the types of the arguments it is being called with. (We need this to determine which method would be called.)"
     ]
    },
    {
     "cell_type": "code",
     "collapsed": false,
     "input": [
      "cs[1].args[2]"
     ],
     "language": "python",
     "metadata": {},
     "outputs": [
      {
       "metadata": {},
       "output_type": "pyout",
       "prompt_number": 46,
       "text": [
        ":(top(box)(Int64,top(add_int)(y::Int64,2))::Int64)"
       ]
      }
     ],
     "prompt_number": 46
    },
    {
     "cell_type": "markdown",
     "metadata": {},
     "source": [
      "The above gets us the first argument to the `:call`, but it is still a whole `Expr`, not a simple value. Luckily, as you can see at the end, it has been annotated with an inferred type already."
     ]
    },
    {
     "cell_type": "code",
     "collapsed": false,
     "input": [
      "cs[1].args[2].args[2]"
     ],
     "language": "python",
     "metadata": {},
     "outputs": [
      {
       "metadata": {},
       "output_type": "pyout",
       "prompt_number": 47,
       "text": [
        ":Int64"
       ]
      }
     ],
     "prompt_number": 47
    },
    {
     "cell_type": "markdown",
     "metadata": {},
     "source": [
      "Thus for this example, we know that it is the function named `cs[1].args[1]` being called with `cs[1].args[2].args[2]`."
     ]
    },
    {
     "cell_type": "code",
     "collapsed": false,
     "input": [
      "println(cs[1].args[1])\n",
      "println(cs[1].args[2].args[2])"
     ],
     "language": "python",
     "metadata": {},
     "outputs": [
      {
       "output_type": "stream",
       "stream": "stdout",
       "text": [
        "f1\n"
       ]
      },
      {
       "output_type": "stream",
       "stream": "stdout",
       "text": [
        "Int64\n"
       ]
      }
     ],
     "prompt_number": 48
    },
    {
     "cell_type": "markdown",
     "metadata": {},
     "source": [
      "However, for this `cs[1]`, the type inference has already provided a return type -- `Union(Int64,MathConst{:\u03c0})`."
     ]
    },
    {
     "cell_type": "code",
     "collapsed": false,
     "input": [
      "cs[1].typ"
     ],
     "language": "python",
     "metadata": {},
     "outputs": [
      {
       "metadata": {},
       "output_type": "pyout",
       "prompt_number": 49,
       "text": [
        "Union(Int64,MathConst{:\u03c0})"
       ]
      }
     ],
     "prompt_number": 49
    },
    {
     "cell_type": "markdown",
     "metadata": {},
     "source": [
      "Since there can be some digging around in the `Expr`s and other `Expr`-like things (`Symbol`s,`Int`s, etc) that occur in `:call` arugments, I wrote `find_returntype` to encapsulate that logic."
     ]
    },
    {
     "cell_type": "code",
     "collapsed": false,
     "input": [
      "function find_returntype(e::Expr,context::Expr) #must be :call,:new,:call1\n",
      "  if Base.is_expr(e,:new); return e.typ; end\n",
      "  if Base.is_expr(e,:call1) && isa(e.args[1], TopNode); return e.typ; end\n",
      "  if !Base.is_expr(e,:call); error(\"Expected :call Expr\"); end\n",
      "\n",
      "  if is_top(e)\n",
      "    return e.typ\n",
      "  end\n",
      "\n",
      "  callee = e.args[1]\n",
      "  if is_top(callee)\n",
      "    return find_returntype(callee,context)\n",
      "  elseif isa(callee,SymbolNode) # only seen (func::F), so non-generic function\n",
      "    return Any\n",
      "  elseif is(callee,Symbol)\n",
      "    if e.typ != Any || any([isa(x,LambdaStaticData) for x in e.args[2:end]])\n",
      "      return e.typ\n",
      "    end\n",
      "\n",
      "    if isdefined(Base,callee)\n",
      "      f = eval(Base,callee)\n",
      "      if !isa(f,Function) || !isgeneric(f)\n",
      "        return e.typ\n",
      "      end\n",
      "      fargtypes = tuple([find_argtype(ea,context) for ea in e.args[2:end]])\n",
      "      return Union([returntype(ef) for ef in code_typed(f,fargtypes)]...)\n",
      "    else\n",
      "      return @show e.typ\n",
      "    end\n",
      "  end\n",
      "\n",
      "  return e.typ\n",
      "end"
     ],
     "language": "python",
     "metadata": {},
     "outputs": [
      {
       "metadata": {},
       "output_type": "pyout",
       "prompt_number": 50,
       "text": [
        "find_returntype (generic function with 1 method)"
       ]
      }
     ],
     "prompt_number": 50
    },
    {
     "cell_type": "heading",
     "level": 3,
     "metadata": {},
     "source": [
      "Deciding If It's Not This Function's Fault"
     ]
    },
    {
     "cell_type": "markdown",
     "metadata": {},
     "source": [
      "If a function is calling another with concrete types, there will only be one possible method to get called.\n",
      "In that case, it is probably the callee's fault that the return type is bad.\n",
      "\n",
      "If a function is calling another with looser types, there may be multiple possible methods that could get called.\n",
      "In that case, the way the second function is being used may be causing the problem.\n",
      "If the arguments to the caller are all concrete, where is it getting an abstract type to call this other function?"
     ]
    },
    {
     "cell_type": "markdown",
     "metadata": {},
     "source": [
      "However, if you are just trying to see if one function is type-stable, you might care about `foo`'s unstability, even if it's really `barr`'s fault."
     ]
    },
    {
     "cell_type": "heading",
     "level": 1,
     "metadata": {},
     "source": [
      "Stable Types Inside Loops"
     ]
    },
    {
     "cell_type": "markdown",
     "metadata": {},
     "source": [
      "In Julia, for-loops are generally the fastest way to write code. (Faster than vectorized code; faster than maps or folds.)\n",
      "One easy way to accidentally decrease their performance is to change the type of a variable during the loop.\n",
      "If all the variables in a loop have stable types, then the code Julia outputs will be the same fast code as a statically typed, compiled language.\n",
      "If a variable has a type that changes, slower dynamic code will be produced to handle that.\n",
      "It can be easy to write code that has this problem, if you're not aware of it, even in simple programs."
     ]
    },
    {
     "cell_type": "code",
     "collapsed": false,
     "input": [
      "x = 5 # x is an Int\n",
      "for i=1:1000\n",
      " x += 100\n",
      " x /= 2 # x is a Float64\n",
      "end \n",
      "x #x is a Float64"
     ],
     "language": "python",
     "metadata": {},
     "outputs": [
      {
       "metadata": {},
       "output_type": "pyout",
       "prompt_number": 1,
       "text": [
        "100.0"
       ]
      }
     ],
     "prompt_number": 1
    },
    {
     "cell_type": "markdown",
     "metadata": {},
     "source": [
      "In this code example, `x` begins life as an `Int`. In the first iteration of the loop, `x += 100` takes `x` as an `Int` and returns an `Int`; `x /= 2` takes this new `Int` and returns a `Float64`. After this, `x` will be a `Float64` for all the remaining iterations of the loop. This means that the extra dynamic code to handle `x` being either an `Int` or a `Float64` slows down all the iterations, despite only being needed for the first one. This can be fixed by making `x` a `Float64` from the start: `x = 5.0`."
     ]
    },
    {
     "cell_type": "code",
     "collapsed": false,
     "input": [
      "x = 5.0 # x is a Float64\n",
      "for i=1:1000\n",
      " x += 100\n",
      " x /= 2 # x is a Float64\n",
      "end \n",
      "x #x is a Float64"
     ],
     "language": "python",
     "metadata": {},
     "outputs": [
      {
       "metadata": {},
       "output_type": "pyout",
       "prompt_number": 2,
       "text": [
        "100.0"
       ]
      }
     ],
     "prompt_number": 2
    },
    {
     "cell_type": "markdown",
     "metadata": {},
     "source": [
      "Variables with unstable types can be detected in generic functions by looking at the output of `code_typed`.\n",
      "Since loops are lowered to gotos, we need to first find the loops and then check the types of the variables involved.\n",
      "Finding loops can be as simple as looking for gotos that jump backwards in the function: gotos whose labels precede them.\n",
      "Each instruction between the goto and its label is part of the loop body.\n",
      "For each instruction in the loop body, we can look at the inferred type of any variables involved.\n",
      "If the inferred type is a UnionType (or not a leaf type), then the variable's type is unstable."
     ]
    },
    {
     "cell_type": "heading",
     "level": 2,
     "metadata": {},
     "source": [
      "True Positives:"
     ]
    },
    {
     "cell_type": "code",
     "collapsed": false,
     "input": [
      "function barr1()\n",
      "  x=4\n",
      "  for i in 1:10\n",
      "    x *= 2.5\n",
      "  end\n",
      "  x\n",
      "end\n",
      "TypeCheck.check_loop_types(barr1)"
     ],
     "language": "python",
     "metadata": {},
     "outputs": [
      {
       "metadata": {},
       "output_type": "display_data",
       "text": [
        "()::Union(Int64,Float64)\n"
       ]
      },
      {
       "metadata": {},
       "output_type": "display_data",
       "text": [
        "\tx::Union(Int64,Float64)\n"
       ]
      },
      {
       "metadata": {},
       "output_type": "pyout",
       "prompt_number": 35,
       "text": [
        "barr1"
       ]
      }
     ],
     "prompt_number": 35
    },
    {
     "cell_type": "heading",
     "level": 2,
     "metadata": {},
     "source": [
      "True Negatives:"
     ]
    },
    {
     "cell_type": "code",
     "collapsed": false,
     "input": [
      "function barr2()\n",
      "  x = 4\n",
      "  x = 2.5\n",
      "  for i=1:10\n",
      "    x *= 2.5\n",
      "  end\n",
      "end\n",
      "TypeCheck.check_loop_types(barr2) #no printing means it passed"
     ],
     "language": "python",
     "metadata": {},
     "outputs": [
      {
       "metadata": {},
       "output_type": "pyout",
       "prompt_number": 36,
       "text": []
      }
     ],
     "prompt_number": 36
    },
    {
     "cell_type": "code",
     "collapsed": false,
     "input": [
      "function barr3() #it will throw an error instead of making x a Float64, so there is no instability here\n",
      "  x::Int = 4\n",
      "  for i=1:10\n",
      "    x *= 2.5\n",
      "  end       \n",
      "end\n",
      "TypeCheck.check_loop_types(barr3)"
     ],
     "language": "python",
     "metadata": {},
     "outputs": [
      {
       "metadata": {},
       "output_type": "pyout",
       "prompt_number": 39,
       "text": []
      }
     ],
     "prompt_number": 39
    },
    {
     "cell_type": "heading",
     "level": 2,
     "metadata": {},
     "source": [
      "Implementation Details:"
     ]
    },
    {
     "cell_type": "markdown",
     "metadata": {},
     "source": [
      "The high-level version looks like this:"
     ]
    },
    {
     "cell_type": "code",
     "collapsed": false,
     "input": [
      "check_loop_types(e::Expr;kwargs...) = TypeCheck.find_loose_types(e,TypeCheck.loopcontents(e))"
     ],
     "language": "python",
     "metadata": {},
     "outputs": [
      {
       "metadata": {},
       "output_type": "pyout",
       "prompt_number": 4,
       "text": [
        "check_loop_types (generic function with 1 method)"
       ]
      }
     ],
     "prompt_number": 4
    },
    {
     "cell_type": "markdown",
     "metadata": {},
     "source": [
      "`loopcontents(e)` returns all of the `Expr`s from `body(e)` that are inside loops. This process is fairly straight-forward, so I won't describe it further.\n",
      "`find_loose_types(e,es)` finds any variables that occur in `es` that have unstable (`Union`) types. I will describe this function below."
     ]
    },
    {
     "cell_type": "heading",
     "level": 3,
     "metadata": {},
     "source": [
      "`find_loose_types`"
     ]
    },
    {
     "cell_type": "markdown",
     "metadata": {},
     "source": [
      "There are two parts to `find_loose_types`: finding all the variables in output of `loopcontents` and deciding if those variables has loose types.\n",
      "Most of the code in `find_loose_types` is a series of loops for digging into each `Expr` to find any variables.\n",
      "The \"unstable type\" test comes in the line `elseif typeof(e1) == SymbolNode && !isleaftype(e1.typ) && typeof(e1.typ) == UnionType`."
     ]
    },
    {
     "cell_type": "code",
     "collapsed": false,
     "input": [
      " function find_loose_types(method::Expr,lr::Vector)\n",
      "    lines = (Symbol,Type)[]\n",
      "    for (i,e) in lr #loopcontents also includes the index that e appears at in method's body.\n",
      "      if typeof(e) == Expr\n",
      "        es = copy(e.args)\n",
      "        while !isempty(es)\n",
      "          e1 = pop!(es)\n",
      "          if typeof(e1) == Expr\n",
      "            append!(es,e1.args)\n",
      "          elseif typeof(e1) == SymbolNode && !isleaftype(e1.typ) && typeof(e1.typ) == UnionType\n",
      "            push!(lines,(e1.name,e1.typ))\n",
      "          end \n",
      "        end                          \n",
      "      end\n",
      "    end\n",
      "    return LoopResult(MethodSignature(method),lines)\n",
      "  end"
     ],
     "language": "python",
     "metadata": {},
     "outputs": [
      {
       "metadata": {},
       "output_type": "pyout",
       "prompt_number": 5,
       "text": [
        "find_loose_types (generic function with 1 method)"
       ]
      }
     ],
     "prompt_number": 5
    },
    {
     "cell_type": "heading",
     "level": 1,
     "metadata": {},
     "source": [
      "Statically Detecting `NoMethodError`s"
     ]
    },
    {
     "cell_type": "markdown",
     "metadata": {},
     "source": [
      "Julia's closest equivalent to compile-time type errors is probably the `NoMethodError`. This occurs when you try to call a function, but no method exists to handle that combination of arguments. `\"stop\" + 2` would throw a `NoMethodError`, for example.\n",
      "\n",
      "These runtime errors can be especially annoying in rarely run code, or code that is only run after a long computation. It is an obviously useful application of static analysis.\n",
      "\n",
      "This detection cannot be done exactly because methods can be added at any time. There is always a possibility that the necessary method will, in fact, get added before the call occurs. (This means that zero false positives would not be possible.)\n",
      "\n",
      "A high-level view of the implementation is:"
     ]
    },
    {
     "cell_type": "code",
     "collapsed": false,
     "input": [
      "check_method_calls(e::Expr;kwargs...) = find_no_method_errors(e,find_method_calls(e);kwargs...)"
     ],
     "language": "python",
     "metadata": {},
     "outputs": [
      {
       "metadata": {},
       "output_type": "pyout",
       "prompt_number": 6,
       "text": [
        "check_method_calls (generic function with 1 method)"
       ]
      }
     ],
     "prompt_number": 6
    },
    {
     "cell_type": "markdown",
     "metadata": {},
     "source": [
      "It combines:\n",
      "\n",
      "* `find_method_calls(e)`, which filters `:call` `Expr`s out of the body of `e` and transforms them into a function name and argument types.\n",
      "* `find_no_method_errors`, which takes the output of `find_method_calls`, calls `check` on each one, and collects any failures.\n",
      "* `check`, which takes one call and determines if it could produce a no method error.\n",
      "\n",
      "The most interesting parts are in `find_argtype`, which `find_method_calls` uses to determine what the types of the arguments are, and `check`."
     ]
    },
    {
     "cell_type": "heading",
     "level": 2,
     "metadata": {},
     "source": [
      "Identifying Argument Types"
     ]
    },
    {
     "cell_type": "markdown",
     "metadata": {},
     "source": [
      "`find_argtype` expects to get an AST node that is in the `args` of a `:call`. This could be another function call, a variable name, or a literal value.\n",
      "\n",
      "Literal values are pretty straight forward to type:"
     ]
    },
    {
     "cell_type": "code",
     "collapsed": false,
     "input": [
      "find_argtype(n::Number,e::Expr) = typeof(n)\n",
      "find_argtype(c::Char,e::Expr) = typeof(c)\n",
      "find_argtype(s::String,e::Expr) = typeof(s)\n",
      "find_argtype(l::LambdaStaticData,e::Expr) = Function\n",
      "find_argtype(i,e::Expr) = typeof(i)"
     ],
     "language": "python",
     "metadata": {},
     "outputs": [
      {
       "metadata": {},
       "output_type": "pyout",
       "prompt_number": 13,
       "text": [
        "find_argtype (generic function with 5 methods)"
       ]
      }
     ],
     "prompt_number": 13
    },
    {
     "cell_type": "markdown",
     "metadata": {},
     "source": [
      "For variables, there are two ways they can show up. If they are just a symbol, then I try looking them up in the surrounding `Expr`, which knows about function arguments and local and captured variables."
     ]
    },
    {
     "cell_type": "code",
     "collapsed": false,
     "input": [
      "function find_argtype(s::Symbol,e::Expr)\n",
      "  vartypes = [x[1] => x[2] for x in e.args[2][2]]\n",
      "  s in vartypes ? (vartypes[@show s]) : Any\n",
      "end"
     ],
     "language": "python",
     "metadata": {},
     "outputs": [
      {
       "metadata": {},
       "output_type": "pyout",
       "prompt_number": 14,
       "text": [
        "find_argtype (generic function with 6 methods)"
       ]
      }
     ],
     "prompt_number": 14
    },
    {
     "cell_type": "markdown",
     "metadata": {},
     "source": [
      "The other case is easier. Some variables come as `SymbolNode`s, which is a variable together with it's type. For these, I just return the type."
     ]
    },
    {
     "cell_type": "code",
     "collapsed": false,
     "input": [
      "find_argtype(s::SymbolNode,e::Expr) = s.typ"
     ],
     "language": "python",
     "metadata": {},
     "outputs": [
      {
       "metadata": {},
       "output_type": "pyout",
       "prompt_number": 15,
       "text": [
        "find_argtype (generic function with 7 methods)"
       ]
      }
     ],
     "prompt_number": 15
    },
    {
     "cell_type": "markdown",
     "metadata": {},
     "source": [
      "`QuoteNode`s wrap some other `Expr`(s), so I find the type of their value. `TopNode`s are a representation of intrinsic functions; these should generally be handled when I handle `:call`s. There's nothing I can do with just the name, so I return `Any` for these."
     ]
    },
    {
     "cell_type": "code",
     "collapsed": false,
     "input": [
      "find_argtype(q::QuoteNode,e::Expr) = find_argtype(q.value,e)\n",
      "find_argtype(t::TopNode,e::Expr) = Any"
     ],
     "language": "python",
     "metadata": {},
     "outputs": [
      {
       "metadata": {},
       "output_type": "pyout",
       "prompt_number": 17,
       "text": [
        "find_argtype (generic function with 9 methods)"
       ]
      }
     ],
     "prompt_number": 17
    },
    {
     "cell_type": "markdown",
     "metadata": {},
     "source": [
      "The last case is when I get an `Expr`. Usually, this is a `:call`. This represents something like `foo(2+2)`, where `find_method_calls` is trying to type `foo`'s argument, `+(2,2)`. Here, we want the return type of `+(2,2)`, so I call `find_returntype`, which I mentioned earlier when talking about checking the stability of function return types."
     ]
    },
    {
     "cell_type": "code",
     "collapsed": false,
     "input": [
      "function find_argtype(e::Expr,context::Expr)\n",
      " if Base.is_expr(e,:call) || Base.is_expr(e,:new) || Base.is_expr(e,:call1)\n",
      "   return find_returntype(e,context)\n",
      " end\n",
      " return Any\n",
      "end"
     ],
     "language": "python",
     "metadata": {},
     "outputs": [
      {
       "metadata": {},
       "output_type": "pyout",
       "prompt_number": 18,
       "text": [
        "find_argtype (generic function with 10 methods)"
       ]
      }
     ],
     "prompt_number": 18
    },
    {
     "cell_type": "markdown",
     "metadata": {},
     "source": [
      "If the return type of `+(2,2)` is not already annotated, `find_returntype` would, in turn, call `find_argtype` on `2` and `2`, in order to examine the correct method of `+`."
     ]
    },
    {
     "cell_type": "heading",
     "level": 2,
     "metadata": {},
     "source": [
      "Checking Method Calls"
     ]
    },
    {
     "cell_type": "markdown",
     "metadata": {},
     "source": [
      "`check` takes three things:\n",
      "\n",
      "* the `Module` containing the function that is making the call\n",
      "* the `Symbol` of the function name\n",
      "* an `Array` containing the type of each argument used\n",
      "\n",
      "`check` either returns `true` if there are methods that could match this call or `false` is none exist."
     ]
    },
    {
     "cell_type": "code",
     "collapsed": false,
     "input": [
      "function check(mod::Module,cs::TypeCheck.CallSignature)\n",
      "    if isdefined(mod,cs.name)\n",
      "      f = eval(mod,cs.name)\n",
      "      if isgeneric(f)\n",
      "        opts = methods(f,tuple(cs.argtypes...))\n",
      "        if isempty(opts)\n",
      "          return false #fail\n",
      "        end\n",
      "      end\n",
      "      return true #pass\n",
      "   end\n",
      "end"
     ],
     "language": "python",
     "metadata": {},
     "outputs": [
      {
       "metadata": {},
       "output_type": "pyout",
       "prompt_number": 23,
       "text": [
        "check (generic function with 1 method)"
       ]
      }
     ],
     "prompt_number": 23
    },
    {
     "cell_type": "markdown",
     "metadata": {},
     "source": [
      "It does this check by taking the `Symbol` of the function name and `eval`ing it to get an actual `Function`. (This doesn't always work because some functions are not top-level and cannot be found by `eval`ing; I don't warn about these because there were too many false-positives.) Then, as long as I got back a generic, named function, I check for matching methods using `methods`. `methods` takes a function and a tuple of argument types, and returns a list of matching methods. If this list is empty, then I fail the function call."
     ]
    }
   ],
   "metadata": {}
  }
 ]
}