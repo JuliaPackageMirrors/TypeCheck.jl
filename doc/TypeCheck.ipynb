{
 "metadata": {
  "language": "Julia",
  "name": ""
 },
 "nbformat": 3,
 "nbformat_minor": 0,
 "worksheets": [
  {
   "cells": [
    {
     "cell_type": "heading",
     "level": 1,
     "metadata": {},
     "source": [
      "A Summary of Julia"
     ]
    },
    {
     "cell_type": "markdown",
     "metadata": {},
     "source": [
      "Julia is a new language designed for technical computing.\n",
      "It is as easy to use and general-purpose as Python,\n",
      "but designed for fast computation, low-level control, and easy to express math.\n",
      "It is a high-performance, dynamically-typed, and JIT-compiled.\n",
      "The excellent facillities for metaprogramming have lead some people to suggest that it is a \"Lisp with syntax\".\n",
      "It is not focused on new ideas, but on executing existing ideas well, with a focus on being practical and approachable."
     ]
    },
    {
     "cell_type": "markdown",
     "metadata": {},
     "source": [
      "The aspect that is most likely to be new to programmers is multiple dispatch.\n",
      "While Common Lisp and Dylan can do multiple dispatch, Julia uses it as its primary, default paradigm.\n",
      "In Julia, named functions are generic functions; they are polymorphic over different types, orders, and numbers of arguments through having methods that each handle one signature.\n",
      "An important aspect of Julia's performance is making multiple dispatch fast.\n",
      "Another advantage of multiple dispatch is that it provides a practical reason for programmers to write type annotations on their function arguments."
     ]
    },
    {
     "cell_type": "heading",
     "level": 2,
     "metadata": {},
     "source": [
      "The Julia Type System"
     ]
    },
    {
     "cell_type": "markdown",
     "metadata": {},
     "source": [
      "Julia uses types in all the ways that don't lead to arguments with the programmer:\n",
      "\n",
      "* inference\n",
      "* optimization\n",
      "* documentation\n",
      "* dispatch\n",
      "\n",
      "The type inference code is written entirely in the language.\n",
      "The Julia code that runs before the type inference code is loaded is first run in a slower, unoptimized version, then recompiled after type inference is added."
     ]
    },
    {
     "cell_type": "markdown",
     "metadata": {},
     "source": [
      "Julia's types are not unrelated; they form a type hierarchy.\n",
      "Each type has a super type.\n",
      "If you traverse the path of super types up from any type, you will eventually reach the top -- Any.\n",
      "The super type of Any is Any."
     ]
    },
    {
     "cell_type": "markdown",
     "metadata": {},
     "source": [
      "There are two kinds of types: concrete and abstract.\n",
      "Concrete types can be instantiated; they have fields like structs or records in other languages.\n",
      "They can be paramaratized over types or integers.\n",
      "Concrete types cannot have subtypes.\n",
      "Abstract types can have subtypes, but cannot be instantiated and do not have fields.\n",
      "An abstract type is basically a name and a point in the type hierarchy."
     ]
    },
    {
     "cell_type": "markdown",
     "metadata": {},
     "source": [
      "There are two keywords for creating concrete types: `type` and `immutable`.\n",
      "A type created using the `type` keyword will have mutable fields; using `immutable` means that all the fields will be immutable.\n",
      "Besides helping programmers maintained desired invariants, immutable types allow the compiler to take advantage of more optimizations."
     ]
    },
    {
     "cell_type": "markdown",
     "metadata": {},
     "source": [
      "The order in which the fields of a type are listed in the type definition is important.\n",
      "It is the same as the order of the fields in the representation of the type.\n",
      "This gives programmers control over how their data is represented in memory.\n",
      "One area where this control is important is when calling C or Fortran code.\n",
      "Julia has excellent built-in abilities for calling C and Fortran code:\n",
      "you use the `ccall` function -- giving the name and signature of the C function and the Julia values you want to pass in.\n",
      "You can even pass in Julia functions as callbacks."
     ]
    },
    {
     "cell_type": "heading",
     "level": 1,
     "metadata": {},
     "source": [
      "Stable Return Types"
     ]
    },
    {
     "cell_type": "markdown",
     "metadata": {},
     "source": [
      "It is good style in Julia for the return type of a method to only depend on the types of the arguments and not on their values.\n",
      "This stability makes behavior more predictable for programmers.\n",
      "It also allows type inference to work better -- stable types on called methods allows stable types on the variables you put the return values into."
     ]
    },
    {
     "cell_type": "markdown",
     "metadata": {},
     "source": [
      "The following method is a simple example of an unstable return type.\n",
      "Sometimes it returns an `Int` and sometimes a `Bool`.\n",
      "The return type of this method would be inferred as `Union(Int64,Bool)`."
     ]
    },
    {
     "cell_type": "code",
     "collapsed": false,
     "input": [
      "function foo(x::Int)\n",
      "  if x > 5\n",
      "    return x\n",
      "  else\n",
      "    return false\n",
      "  end\n",
      "end"
     ],
     "language": "python",
     "metadata": {},
     "outputs": [
      {
       "metadata": {},
       "output_type": "pyout",
       "prompt_number": 4,
       "text": [
        "foo (generic function with 1 method)"
       ]
      }
     ],
     "prompt_number": 4
    },
    {
     "cell_type": "code",
     "collapsed": false,
     "input": [
      "foo(5)"
     ],
     "language": "python",
     "metadata": {},
     "outputs": [
      {
       "metadata": {},
       "output_type": "pyout",
       "prompt_number": 5,
       "text": [
        "false"
       ]
      }
     ],
     "prompt_number": 5
    },
    {
     "cell_type": "code",
     "collapsed": false,
     "input": [
      "foo(1337)"
     ],
     "language": "python",
     "metadata": {},
     "outputs": [
      {
       "metadata": {},
       "output_type": "pyout",
       "prompt_number": 6,
       "text": [
        "1337"
       ]
      }
     ],
     "prompt_number": 6
    },
    {
     "cell_type": "markdown",
     "metadata": {},
     "source": [
      "Until now, there has been no way to statically check that methods do not behave in this way.\n",
      "Julia's base library is mostly free of this because they commited to this as a design principle and used code review to adhere to it.\n",
      "While there are instances of instability, they tend to be less obvious -- they stem especially from retrieving data from untyped storage, from some interfaces to other environments, or from places where it is necessary (higher-level functions)."
     ]
    },
    {
     "cell_type": "markdown",
     "metadata": {},
     "source": [
      "I have written a static checker to detect that this invariant may be violated.\n",
      "My approach tends more towards false positives than false negatives."
     ]
    },
    {
     "cell_type": "heading",
     "level": 2,
     "metadata": {},
     "source": [
      "Examining the return type of functions"
     ]
    },
    {
     "cell_type": "markdown",
     "metadata": {},
     "source": [
      "Julia is an especially good candidate for introspective static analysis.\n",
      "Many useful facilities for working with representations of Julia code and examining generic functions are built-in to the language.\n",
      "There is a type, `Expr`, for representing nodes of the Julia AST.\n",
      "There is a set of functions (`code_lowered`, `code_typed`, `code_llvm`, and `code_native`) for examining the results of a few compiler phases; I have previously written about them [on my blog](http://blog.leahhanson.us/julia-introspects.html)."
     ]
    },
    {
     "cell_type": "markdown",
     "metadata": {},
     "source": [
      "The most relevant function for this application is `code_typed`, since it returns the AST after type inference occurs."
     ]
    },
    {
     "cell_type": "code",
     "collapsed": false,
     "input": [
      "code_typed(foo,(Int,))"
     ],
     "language": "python",
     "metadata": {},
     "outputs": [
      {
       "metadata": {},
       "output_type": "pyout",
       "prompt_number": 7,
       "text": [
        "1-element Array{Any,1}:\n",
        " :($(Expr(:lambda, {:x}, {{},{{:x,Int64,0}},{}}, quote  # In[4], line 2:\n",
        "        unless top(slt_int)(5,x::Int64)::Bool goto 0 # line 3:\n",
        "        return x::Int64\n",
        "        goto 1\n",
        "        0:  # In[4], line 5:\n",
        "        return false\n",
        "        1: \n",
        "    end)))"
       ]
      }
     ],
     "prompt_number": 7
    },
    {
     "cell_type": "markdown",
     "metadata": {},
     "source": [
      "`code_typed` returns an array because if you give arguments that are abstract types, it will returns all the possible methods.\n",
      "With abstract types, multiple methods could be called based on which concrete subtype is actually used.\n",
      "All values in Julia have concrete types and dispatch will be based on those concrete types, so multiple things could happen."
     ]
    },
    {
     "cell_type": "code",
     "collapsed": false,
     "input": [
      "code_typed(foo,(Int,))[1] # Julia indexes from 1"
     ],
     "language": "python",
     "metadata": {},
     "outputs": [
      {
       "metadata": {},
       "output_type": "pyout",
       "prompt_number": 8,
       "text": [
        ":($(Expr(:lambda, {:x}, {{},{{:x,Int64,0}},{}}, quote  # In[4], line 2:\n",
        "        unless top(slt_int)(5,x::Int64)::Bool goto 0 # line 3:\n",
        "        return x::Int64\n",
        "        goto 1\n",
        "        0:  # In[4], line 5:\n",
        "        return false\n",
        "        1: \n",
        "    end)))"
       ]
      }
     ],
     "prompt_number": 8
    },
    {
     "cell_type": "markdown",
     "metadata": {},
     "source": [
      "The array contains `Expr`s.\n",
      "Unlike ones from previous stages of compilation, `Expr`s from `code_typed` look a little different from ones from elsewhere in the compilation process. They're covered in type annotations!"
     ]
    },
    {
     "cell_type": "markdown",
     "metadata": {},
     "source": [
      "Besides the ones on `x` above (`Int64`), there's also a return type inferred for the method.\n",
      "Every `Expr` has three fields: `head`, `args`, and `typ`.\n",
      "The ones returned by `code_typed` will have a particular format:\n",
      "\n",
      "  * `head` is `:lambda`\n",
      "  * the third element of `args` is another `Expr`, with `head` = `:body` and `typ` = the return type of the method\n",
      "  * `typ` is `Any`\n"
     ]
    },
    {
     "cell_type": "code",
     "collapsed": false,
     "input": [
      "code_typed(foo,(Int,))[1].args[3].typ"
     ],
     "language": "python",
     "metadata": {},
     "outputs": [
      {
       "metadata": {},
       "output_type": "pyout",
       "prompt_number": 9,
       "text": [
        "Union(Int64,Bool)"
       ]
      }
     ],
     "prompt_number": 9
    },
    {
     "cell_type": "heading",
     "level": 2,
     "metadata": {},
     "source": [
      "A Function To Give the Return Type(s) of a Generic Function"
     ]
    },
    {
     "cell_type": "heading",
     "level": 3,
     "metadata": {},
     "source": [
      "The function:"
     ]
    },
    {
     "cell_type": "code",
     "collapsed": false,
     "input": [
      "function returntype(f,args...)\n",
      "  Union(DataType,UnionType)[e.args[3].typ for e in code_typed(f,args...)]\n",
      "end"
     ],
     "language": "python",
     "metadata": {},
     "outputs": [
      {
       "metadata": {},
       "output_type": "pyout",
       "prompt_number": 126,
       "text": [
        "returntype (generic function with 1 method)"
       ]
      }
     ],
     "prompt_number": 126
    },
    {
     "cell_type": "heading",
     "level": 3,
     "metadata": {},
     "source": [
      "Usage examples:"
     ]
    },
    {
     "cell_type": "code",
     "collapsed": false,
     "input": [
      "returntype(foo,(Int,))"
     ],
     "language": "python",
     "metadata": {},
     "outputs": [
      {
       "metadata": {},
       "output_type": "pyout",
       "prompt_number": 127,
       "text": [
        "1-element Array{Union(UnionType,DataType),1}:\n",
        " Union(Int64,Bool)"
       ]
      }
     ],
     "prompt_number": 127
    },
    {
     "cell_type": "code",
     "collapsed": false,
     "input": [
      "returntype(+,(Number,))"
     ],
     "language": "python",
     "metadata": {},
     "outputs": [
      {
       "metadata": {},
       "output_type": "pyout",
       "prompt_number": 128,
       "text": [
        "2-element Array{Union(UnionType,DataType),1}:\n",
        " Int64 \n",
        " Number"
       ]
      }
     ],
     "prompt_number": 128
    },
    {
     "cell_type": "code",
     "collapsed": false,
     "input": [
      "returntype(+,(Int64,Real))"
     ],
     "language": "python",
     "metadata": {},
     "outputs": [
      {
       "metadata": {},
       "output_type": "pyout",
       "prompt_number": 129,
       "text": [
        "7-element Array{Union(UnionType,DataType),1}:\n",
        " Int64   \n",
        " Char    \n",
        " BigInt  \n",
        " BigFloat\n",
        " BigFloat\n",
        " None    \n",
        " Any     "
       ]
      }
     ],
     "prompt_number": 129
    },
    {
     "cell_type": "code",
     "collapsed": false,
     "input": [
      "returntype(+,(Any,Any,Any))"
     ],
     "language": "python",
     "metadata": {},
     "outputs": [
      {
       "metadata": {},
       "output_type": "pyout",
       "prompt_number": 130,
       "text": [
        "3-element Array{Union(UnionType,DataType),1}:\n",
        " BigInt  \n",
        " BigFloat\n",
        " Any     "
       ]
      }
     ],
     "prompt_number": 130
    },
    {
     "cell_type": "heading",
     "level": 2,
     "metadata": {},
     "source": [
      "Deciding Whether the Return Type is Probably Stable"
     ]
    },
    {
     "cell_type": "markdown",
     "metadata": {},
     "source": [
      "If the types of an argument to a method are all concrete, then the return type should also be concrete."
     ]
    },
    {
     "cell_type": "heading",
     "level": 3,
     "metadata": {},
     "source": [
      "Concrete, Abstract, and Union Types"
     ]
    },
    {
     "cell_type": "markdown",
     "metadata": {},
     "source": [
      "There are three kinds of types in Julia: concrete, abstract, and union.\n",
      "Only concrete types are are the leaves of the type heirarchy.\n",
      "Abstract types are also nodes in the type heirarchy.\n",
      "Union types represent arbitrary collections of types.\n",
      "The types do not need to share a common super type.\n",
      "Unlike using abstract types to represent types that do share a common ancestor, untion types can be more precise about the types they're refering to."
     ]
    },
    {
     "cell_type": "code",
     "collapsed": false,
     "input": [
      "[Int, String, Union(Float64,UTF8String)]"
     ],
     "language": "python",
     "metadata": {},
     "outputs": [
      {
       "metadata": {},
       "output_type": "pyout",
       "prompt_number": 7,
       "text": [
        "3-element Array{Type{T<:Top},1}:\n",
        " Int64                    \n",
        " String                   \n",
        " Union(UTF8String,Float64)"
       ]
      }
     ],
     "prompt_number": 7
    },
    {
     "cell_type": "markdown",
     "metadata": {},
     "source": [
      "Unlike concrete and abstract types, union types are not represented by `DataType`; they have their own type, `UnionType`."
     ]
    },
    {
     "cell_type": "code",
     "collapsed": false,
     "input": [
      "[typeof(x) for x in ans]"
     ],
     "language": "python",
     "metadata": {},
     "outputs": [
      {
       "metadata": {},
       "output_type": "pyout",
       "prompt_number": 8,
       "text": [
        "3-element Array{Type{_},1}:\n",
        " DataType \n",
        " DataType \n",
        " UnionType"
       ]
      }
     ],
     "prompt_number": 8
    },
    {
     "cell_type": "markdown",
     "metadata": {},
     "source": [
      "There is a convenient function for differetiating between concrete types and all other types: `isleaftype`.\n",
      "It returns true for concrete types (the leaves of the type hierarchy) and false for abstract types and union types."
     ]
    },
    {
     "cell_type": "code",
     "collapsed": false,
     "input": [
      "isleaftype(Uint128)"
     ],
     "language": "python",
     "metadata": {},
     "outputs": [
      {
       "metadata": {},
       "output_type": "pyout",
       "prompt_number": 9,
       "text": [
        "true"
       ]
      }
     ],
     "prompt_number": 9
    },
    {
     "cell_type": "code",
     "collapsed": false,
     "input": [
      "isleaftype(String)"
     ],
     "language": "python",
     "metadata": {},
     "outputs": [
      {
       "metadata": {},
       "output_type": "pyout",
       "prompt_number": 10,
       "text": [
        "false"
       ]
      }
     ],
     "prompt_number": 10
    },
    {
     "cell_type": "code",
     "collapsed": false,
     "input": [
      "isleaftype(Union(Int,Float32,ASCIIString))"
     ],
     "language": "python",
     "metadata": {},
     "outputs": [
      {
       "metadata": {},
       "output_type": "pyout",
       "prompt_number": 11,
       "text": [
        "false"
       ]
      }
     ],
     "prompt_number": 11
    },
    {
     "cell_type": "heading",
     "level": 2,
     "metadata": {},
     "source": [
      "Preventing One Unstable Function from Spawning Many More Warnings"
     ]
    },
    {
     "cell_type": "markdown",
     "metadata": {},
     "source": [
      "If the return type of a function, say `foo`, is a call to function `barr`, then `foo`'s return type would resonably be inferred to be the return type of `barr`.\n",
      "Because so far we have only looked at the return type of `foo`, we would output warnings for both `foo` and `barr`.\n",
      "If both functions are in the set of checked functions, this would produce a false-positive on `foo`, since you only need to fix `barr`."
     ]
    },
    {
     "cell_type": "heading",
     "level": 3,
     "metadata": {},
     "source": [
      "A Example of Return Type Propogation"
     ]
    },
    {
     "cell_type": "code",
     "collapsed": false,
     "input": [
      "f1(x::Int) = x == 5 ? 42 : pi\n",
      "returntype(f1,(Int,))"
     ],
     "language": "python",
     "metadata": {},
     "outputs": [
      {
       "metadata": {},
       "output_type": "pyout",
       "prompt_number": 15,
       "text": [
        "1-element Array{Any,1}:\n",
        " Union(Int64,MathConst{:\u03c0})"
       ]
      }
     ],
     "prompt_number": 15
    },
    {
     "cell_type": "code",
     "collapsed": false,
     "input": [
      "f2(y::Int) = f1(y + 2)\n",
      "returntype(f2,(Int,))"
     ],
     "language": "python",
     "metadata": {},
     "outputs": [
      {
       "metadata": {},
       "output_type": "pyout",
       "prompt_number": 16,
       "text": [
        "1-element Array{Any,1}:\n",
        " Union(Int64,MathConst{:\u03c0})"
       ]
      }
     ],
     "prompt_number": 16
    },
    {
     "cell_type": "heading",
     "level": 3,
     "metadata": {},
     "source": [
      "Finding The `:return`s in the Function"
     ]
    },
    {
     "cell_type": "heading",
     "level": 4,
     "metadata": {},
     "source": [
      "All expressions in the function body:"
     ]
    },
    {
     "cell_type": "code",
     "collapsed": false,
     "input": [
      "body(f,args...) = [e.args[3].args for e in code_typed(f,args...)]"
     ],
     "language": "python",
     "metadata": {},
     "outputs": [
      {
       "metadata": {},
       "output_type": "pyout",
       "prompt_number": 17,
       "text": [
        "body (generic function with 1 method)"
       ]
      }
     ],
     "prompt_number": 17
    },
    {
     "cell_type": "heading",
     "level": 4,
     "metadata": {},
     "source": [
      "Filtering to only `:return`s:"
     ]
    },
    {
     "cell_type": "code",
     "collapsed": false,
     "input": [
      "returns(f,args...) = Array{Expr,1}[filter(x-> typeof(x) == Expr && x.head==:return,es) for es in body(f,args...)]"
     ],
     "language": "python",
     "metadata": {},
     "outputs": [
      {
       "metadata": {},
       "output_type": "pyout",
       "prompt_number": 18,
       "text": [
        "returns (generic function with 1 method)"
       ]
      }
     ],
     "prompt_number": 18
    },
    {
     "cell_type": "heading",
     "level": 4,
     "metadata": {},
     "source": [
      "Usage Examples:"
     ]
    },
    {
     "cell_type": "code",
     "collapsed": false,
     "input": [
      "rs1 = returns(f1,(Int,))"
     ],
     "language": "python",
     "metadata": {},
     "outputs": [
      {
       "metadata": {},
       "output_type": "pyout",
       "prompt_number": 19,
       "text": [
        "1-element Array{Array{Expr,1},1}:\n",
        " [:(return 42),:(return pi)]"
       ]
      }
     ],
     "prompt_number": 19
    },
    {
     "cell_type": "code",
     "collapsed": false,
     "input": [
      "rs2 = returns(f2,(Int,))"
     ],
     "language": "python",
     "metadata": {},
     "outputs": [
      {
       "metadata": {},
       "output_type": "pyout",
       "prompt_number": 131,
       "text": [
        "1-element Array{Array{Expr,1},1}:\n",
        " [:(return f1(top(box)(Int64,top(add_int)(y::Int64,2))::Int64)::Union(Int64,MathConst{:\u03c0}))]"
       ]
      }
     ],
     "prompt_number": 131
    },
    {
     "cell_type": "heading",
     "level": 3,
     "metadata": {},
     "source": [
      "Finding The `:call`s and their return types"
     ]
    },
    {
     "cell_type": "heading",
     "level": 4,
     "metadata": {},
     "source": [
      "Burrowing into the `:return`s to find the `:call`s"
     ]
    },
    {
     "cell_type": "code",
     "collapsed": false,
     "input": [
      "[[typeof(e.args[1]) == Expr && e.args[1].head == :call for e in rs] for rs in rs1] #testing :call filter"
     ],
     "language": "python",
     "metadata": {},
     "outputs": [
      {
       "metadata": {},
       "output_type": "pyout",
       "prompt_number": 135,
       "text": [
        "1-element Array{Array{Bool,N},1}:\n",
        " [false,false]"
       ]
      }
     ],
     "prompt_number": 135
    },
    {
     "cell_type": "code",
     "collapsed": false,
     "input": [
      "[[typeof(e.args[1]) == Expr && e.args[1].head == :call for e in rs] for rs in rs2] #testing :call filter"
     ],
     "language": "python",
     "metadata": {},
     "outputs": [
      {
       "metadata": {},
       "output_type": "pyout",
       "prompt_number": 136,
       "text": [
        "1-element Array{Array{Bool,N},1}:\n",
        " [true]"
       ]
      }
     ],
     "prompt_number": 136
    },
    {
     "cell_type": "code",
     "collapsed": false,
     "input": [
      "[[e.args[1] for e in filter(x-> typeof(x.args[1]) == Expr && x.args[1].head == :call, rs)] for rs in rs2]\n",
      "#testing list comprehension to pull out :calls"
     ],
     "language": "python",
     "metadata": {},
     "outputs": [
      {
       "metadata": {},
       "output_type": "pyout",
       "prompt_number": 140,
       "text": [
        "1-element Array{Any,1}:\n",
        " {:(f1(top(box)(Int64,top(add_int)(y::Int64,2))::Int64)::Union(Int64,MathConst{:\u03c0}))}"
       ]
      }
     ],
     "prompt_number": 140
    },
    {
     "cell_type": "code",
     "collapsed": false,
     "input": [
      "function extract_calls(returns_arrs)\n",
      "  output = Array(Vector{Expr},length(returns_arrs))\n",
      "  for i in 1:length(returns_arrs)\n",
      "    returns_with_calls = filter(x->typeof(x.args[1]) == Expr && x.args[1].head == :call,returns_arrs[i])\n",
      "    output[i] = [expr.args[1] for expr in returns_with_calls]\n",
      "  end\n",
      "  output\n",
      "end"
     ],
     "language": "python",
     "metadata": {},
     "outputs": [
      {
       "metadata": {},
       "output_type": "pyout",
       "prompt_number": 145,
       "text": [
        "extract_calls (generic function with 1 method)"
       ]
      }
     ],
     "prompt_number": 145
    },
    {
     "cell_type": "code",
     "collapsed": false,
     "input": [
      "extract_calls(rs1)"
     ],
     "language": "python",
     "metadata": {},
     "outputs": [
      {
       "metadata": {},
       "output_type": "pyout",
       "prompt_number": 146,
       "text": [
        "1-element Array{Array{Expr,1},1}:\n",
        " []"
       ]
      }
     ],
     "prompt_number": 146
    },
    {
     "cell_type": "code",
     "collapsed": false,
     "input": [
      "extract_calls(rs2)"
     ],
     "language": "python",
     "metadata": {},
     "outputs": [
      {
       "metadata": {},
       "output_type": "pyout",
       "prompt_number": 147,
       "text": [
        "1-element Array{Array{Expr,1},1}:\n",
        " [:(f1(top(box)(Int64,top(add_int)(y::Int64,2))::Int64)::Union(Int64,MathConst{:\u03c0}))]"
       ]
      }
     ],
     "prompt_number": 147
    },
    {
     "cell_type": "heading",
     "level": 4,
     "metadata": {},
     "source": [
      "Get Type Signature of `:call`"
     ]
    },
    {
     "cell_type": "code",
     "collapsed": false,
     "input": [
      "rs2[1][1].args[1].args[2].args[2] #finding the type of the argument to the call"
     ],
     "language": "python",
     "metadata": {},
     "outputs": [
      {
       "metadata": {},
       "output_type": "pyout",
       "prompt_number": 133,
       "text": [
        ":Int64"
       ]
      }
     ],
     "prompt_number": 133
    },
    {
     "cell_type": "code",
     "collapsed": false,
     "input": [
      "cs = extract_calls(rs2)"
     ],
     "language": "python",
     "metadata": {},
     "outputs": [
      {
       "metadata": {},
       "output_type": "pyout",
       "prompt_number": 148,
       "text": [
        "1-element Array{Array{Expr,1},1}:\n",
        " [:(f1(top(box)(Int64,top(add_int)(y::Int64,2))::Int64)::Union(Int64,MathConst{:\u03c0}))]"
       ]
      }
     ],
     "prompt_number": 148
    },
    {
     "cell_type": "code",
     "collapsed": false,
     "input": [
      "cs[1][1].args[2]"
     ],
     "language": "python",
     "metadata": {},
     "outputs": [
      {
       "metadata": {},
       "output_type": "pyout",
       "prompt_number": 175,
       "text": [
        ":(top(box)(Int64,top(add_int)(y::Int64,2))::Int64)"
       ]
      }
     ],
     "prompt_number": 175
    },
    {
     "cell_type": "code",
     "collapsed": false,
     "input": [
      "cs[1][1].args[2].args[2]"
     ],
     "language": "python",
     "metadata": {},
     "outputs": [
      {
       "metadata": {},
       "output_type": "pyout",
       "prompt_number": 157,
       "text": [
        ":Int64"
       ]
      }
     ],
     "prompt_number": 157
    },
    {
     "cell_type": "code",
     "collapsed": false,
     "input": [
      "function expr_type(expr)\n",
      "  if typeof(expr) == Symbol\n",
      "    return Any\n",
      "  elseif typeof(expr) == TopNode\n",
      "    return Any\n",
      "  elseif typeof(expr) == Expr\n",
      "    if expr.head == :call && typeof(expr.args[1]) == TopNode && expr.args[1].name == :box\n",
      "      return expr.args[2] #the type being cast to, if top(box)\n",
      "    end\n",
      "    return Any ## TODO: fix me!\n",
      "  else\n",
      "    return typeof(expr)\n",
      "  end\n",
      "end"
     ],
     "language": "python",
     "metadata": {},
     "outputs": [
      {
       "metadata": {},
       "output_type": "pyout",
       "prompt_number": 180,
       "text": [
        "expr_type (generic function with 1 method)"
       ]
      }
     ],
     "prompt_number": 180
    },
    {
     "cell_type": "code",
     "collapsed": false,
     "input": [
      "function argtypes(callss)\n",
      "  output = Array(Vector{Vector{Union(DataType,UnionType,Symbol)}},length(callss))\n",
      "  for i in 1:length(callss)\n",
      "    output[i] = [Symbol[expr_type(e) for e in call.args[2:]] for call in callss[i]]\n",
      "  end\n",
      "  output\n",
      "end"
     ],
     "language": "python",
     "metadata": {},
     "outputs": [
      {
       "metadata": {},
       "output_type": "pyout",
       "prompt_number": 204,
       "text": [
        "argtypes (generic function with 1 method)"
       ]
      }
     ],
     "prompt_number": 204
    },
    {
     "cell_type": "code",
     "collapsed": false,
     "input": [
      "argtypes(cs)"
     ],
     "language": "python",
     "metadata": {},
     "outputs": [
      {
       "metadata": {},
       "output_type": "pyout",
       "prompt_number": 205,
       "text": [
        "1-element Array{Array{Array{Union(UnionType,DataType,Symbol),1},1},1}:\n",
        " [[:Int64]]"
       ]
      }
     ],
     "prompt_number": 205
    },
    {
     "cell_type": "code",
     "collapsed": false,
     "input": [
      "argtypes(extract_calls(rs2))"
     ],
     "language": "python",
     "metadata": {},
     "outputs": [
      {
       "metadata": {},
       "output_type": "pyout",
       "prompt_number": 206,
       "text": [
        "1-element Array{Array{Array{Union(UnionType,DataType,Symbol),1},1},1}:\n",
        " [[:Int64]]"
       ]
      }
     ],
     "prompt_number": 206
    },
    {
     "cell_type": "heading",
     "level": 4,
     "metadata": {},
     "source": [
      "Use `returntype` to get return types of matching method(s)"
     ]
    },
    {
     "cell_type": "code",
     "collapsed": false,
     "input": [
      "cs[1][1].args[1] #finding the name of the function being called"
     ],
     "language": "python",
     "metadata": {},
     "outputs": [
      {
       "metadata": {},
       "output_type": "pyout",
       "prompt_number": 193,
       "text": [
        ":f1"
       ]
      }
     ],
     "prompt_number": 193
    },
    {
     "cell_type": "code",
     "collapsed": false,
     "input": [
      "returntype(f1,(Int64,)) #finding the returntype, given the name and arg type(s)"
     ],
     "language": "python",
     "metadata": {},
     "outputs": [
      {
       "metadata": {},
       "output_type": "pyout",
       "prompt_number": 134,
       "text": [
        "1-element Array{Union(UnionType,DataType),1}:\n",
        " Union(Int64,MathConst{:\u03c0})"
       ]
      }
     ],
     "prompt_number": 134
    },
    {
     "cell_type": "code",
     "collapsed": false,
     "input": [
      "AType = Union(DataType,UnionType)"
     ],
     "language": "python",
     "metadata": {},
     "outputs": [
      {
       "metadata": {},
       "output_type": "pyout",
       "prompt_number": 213,
       "text": [
        "Union(UnionType,DataType)"
       ]
      }
     ],
     "prompt_number": 213
    },
    {
     "cell_type": "code",
     "collapsed": false,
     "input": [
      "css = extract_calls(rs2)\n",
      "names = [[c.args[1] for c in cs] for cs in css]\n",
      "fs = [[eval(n) for n in ns] for ns in names]\n",
      "symtypes = argtypes(css)\n",
      "atypes = Vector{Vector{AType}}[[[eval(x) for x in s] for s in ss] for ss in symtypes]"
     ],
     "language": "python",
     "metadata": {},
     "outputs": [
      {
       "metadata": {},
       "output_type": "pyout",
       "prompt_number": 220,
       "text": [
        "1-element Array{Array{Array{Union(UnionType,DataType),1},1},1}:\n",
        " [[Int64]]"
       ]
      }
     ],
     "prompt_number": 220
    },
    {
     "cell_type": "heading",
     "level": 3,
     "metadata": {},
     "source": [
      "Deciding If It's Not This Function's Fault"
     ]
    },
    {
     "cell_type": "markdown",
     "metadata": {},
     "source": [
      "If a function is calling another with concrete types, there will only be one possible method to get called.\n",
      "In that case, it is probably the callee's fault that the return type is bad.\n",
      "\n",
      "If a function is calling another with looser types, there may be multiple possible methods that could get called.\n",
      "In that case, the way the second function is being used may be causing the problem.\n",
      "If the arguments to the caller are all concrete, where is it getting an abstract type to call this other function?"
     ]
    },
    {
     "cell_type": "markdown",
     "metadata": {},
     "source": [
      "However, if you are just trying to see if one function is type-stable, you might care about `foo`'s unstability, even if it's really `barr`'s fault."
     ]
    },
    {
     "cell_type": "heading",
     "level": 2,
     "metadata": {},
     "source": [
      "Putting It Together"
     ]
    },
    {
     "cell_type": "markdown",
     "metadata": {},
     "source": [
      "Now that I've gone through the background concepts, let's check one method for return type instability.\n",
      "I'll use the `foo` function from before as a failing example:"
     ]
    },
    {
     "cell_type": "code",
     "collapsed": false,
     "input": [
      "function foo(x::Float64)\n",
      "  y = 2\n",
      "  z = 4\n",
      "  x + y + z + 2.5\n",
      "end"
     ],
     "language": "python",
     "metadata": {},
     "outputs": [
      {
       "metadata": {},
       "output_type": "pyout",
       "prompt_number": 38,
       "text": [
        "foo (generic function with 2 methods)"
       ]
      }
     ],
     "prompt_number": 38
    },
    {
     "cell_type": "code",
     "collapsed": false,
     "input": [
      "function foo(x::Int)\n",
      "  if x > 5\n",
      "    return x\n",
      "  else\n",
      "    return false\n",
      "  end\n",
      "end"
     ],
     "language": "python",
     "metadata": {},
     "outputs": [
      {
       "metadata": {},
       "output_type": "pyout",
       "prompt_number": 22,
       "text": [
        "foo (generic function with 1 method)"
       ]
      }
     ],
     "prompt_number": 22
    },
    {
     "cell_type": "markdown",
     "metadata": {},
     "source": [
      "The first thing we need to get is the typed AST for the method."
     ]
    },
    {
     "cell_type": "code",
     "collapsed": false,
     "input": [
      "code_typed(foo,(Int,))[1]"
     ],
     "language": "python",
     "metadata": {},
     "outputs": [
      {
       "metadata": {},
       "output_type": "pyout",
       "prompt_number": 23,
       "text": [
        ":($(Expr(:lambda, {:x}, {{},{{:x,Int64,0}},{}}, quote  # In[22], line 2:\n",
        "        unless top(slt_int)(5,x::Int64)::Bool goto 0 # line 3:\n",
        "        return x::Int64\n",
        "        goto 1\n",
        "        0:  # In[22], line 5:\n",
        "        return false\n",
        "        1: \n",
        "    end)))"
       ]
      }
     ],
     "prompt_number": 23
    },
    {
     "cell_type": "markdown",
     "metadata": {},
     "source": [
      "From there, we can pull out the body of the method and the return type."
     ]
    },
    {
     "cell_type": "code",
     "collapsed": false,
     "input": [
      "rt = returntype(foo,(Any,))"
     ],
     "language": "python",
     "metadata": {},
     "outputs": [
      {
       "metadata": {},
       "output_type": "pyout",
       "prompt_number": 35,
       "text": [
        "2-element Array{Any,1}:\n",
        " Union(Int64,Bool)\n",
        " Float64          "
       ]
      }
     ],
     "prompt_number": 35
    },
    {
     "cell_type": "markdown",
     "metadata": {},
     "source": [
      "In addition to the return type, we need the names and types of the arguments."
     ]
    },
    {
     "cell_type": "code",
     "collapsed": false,
     "input": [
      "argnames = e.args[1]"
     ],
     "language": "python",
     "metadata": {},
     "outputs": [
      {
       "metadata": {},
       "output_type": "pyout",
       "prompt_number": 55,
       "text": [
        "1-element Array{Any,1}:\n",
        " :x"
       ]
      }
     ],
     "prompt_number": 55
    },
    {
     "cell_type": "markdown",
     "metadata": {},
     "source": [
      "`argtuples` will have information about local variables in addition to the arguments, which is why we need to get the `argnames` separately."
     ]
    },
    {
     "cell_type": "code",
     "collapsed": false,
     "input": [
      "argtuples = e.args[2][2]"
     ],
     "language": "python",
     "metadata": {},
     "outputs": [
      {
       "metadata": {},
       "output_type": "pyout",
       "prompt_number": 56,
       "text": [
        "1-element Array{Any,1}:\n",
        " {:x,Int64,0}"
       ]
      }
     ],
     "prompt_number": 56
    },
    {
     "cell_type": "markdown",
     "metadata": {},
     "source": [
      "To make the method signature print out more nicely here, we can join the type names with commas."
     ]
    },
    {
     "cell_type": "code",
     "collapsed": false,
     "input": [
      "types = join([t[2] for t in argtuples],\",\") #pretty print type sig"
     ],
     "language": "python",
     "metadata": {},
     "outputs": [
      {
       "metadata": {},
       "output_type": "pyout",
       "prompt_number": 57,
       "text": [
        "\"Int64\""
       ]
      }
     ],
     "prompt_number": 57
    },
    {
     "cell_type": "code",
     "collapsed": false,
     "input": [
      "types(f,args...) = [[t[2] for t in filter(x->x[1] in e.args[1],e.args[2][2])] for e in code_typed(f,args...)]"
     ],
     "language": "python",
     "metadata": {},
     "outputs": [
      {
       "metadata": {},
       "output_type": "pyout",
       "prompt_number": 43,
       "text": [
        "types (generic function with 1 method)"
       ]
      }
     ],
     "prompt_number": 43
    },
    {
     "cell_type": "code",
     "collapsed": false,
     "input": [
      "function types(f,args...)\n",
      "  exprs = code_typed(f,args...)\n",
      "  out = Array(Vector{Union(UnionType,DataType)},length(exprs))\n",
      "  for i in 1:length(exprs)\n",
      "    argnames = exprs[i].args[1]\n",
      "    vartuples = exprs[i].args[2][2] #vector of (name,type,int)\n",
      "    argtuples = filter(x->x[1] in argnames, vartuples) #only arguments, no local vars\n",
      "    out[i] = Union(DataType,UnionType)[t[2] for t in argtuples]\n",
      "  end\n",
      "  return out\n",
      "end"
     ],
     "language": "python",
     "metadata": {},
     "outputs": [
      {
       "metadata": {},
       "output_type": "pyout",
       "prompt_number": 55,
       "text": [
        "types (generic function with 1 method)"
       ]
      }
     ],
     "prompt_number": 55
    },
    {
     "cell_type": "code",
     "collapsed": false,
     "input": [
      "function checktypes(f,args...)\n",
      "  rt = returntype(f,args...)\n",
      "  ts = types(f,args...)\n",
      "  notnewline = x -> x != '\\n'\n",
      "\n",
      "  for i in 1:length(rt)\n",
      "    flag = false\n",
      "    for t in ts[i]\n",
      "      if !isleaftype(t)\n",
      "        println(filter(notnewline,\"($(ts[i])) => $(rt[i]) passed\"))\n",
      "        flag = true; break\n",
      "      end\n",
      "    end\n",
      "    if !flag println(filter(notnewline,\"($(ts[i])) => $(rt[i]) \"), isleaftype(rt[i]) ? \"passed\" : \"failed\") end\n",
      "  end\n",
      "end"
     ],
     "language": "python",
     "metadata": {},
     "outputs": [
      {
       "metadata": {},
       "output_type": "pyout",
       "prompt_number": 94,
       "text": [
        "checktypes (generic function with 1 method)"
       ]
      }
     ],
     "prompt_number": 94
    },
    {
     "cell_type": "code",
     "collapsed": false,
     "input": [
      "checktypes(foo,(Any,))"
     ],
     "language": "python",
     "metadata": {},
     "outputs": [
      {
       "output_type": "stream",
       "stream": "stdout",
       "text": [
        "(Int64) => Union(Int64,Bool) failed"
       ]
      },
      {
       "output_type": "stream",
       "stream": "stdout",
       "text": [
        "\n",
        "(Float64) => Float64 passed\n"
       ]
      }
     ],
     "prompt_number": 95
    },
    {
     "cell_type": "markdown",
     "metadata": {},
     "source": [
      "To actually perform the test, we just need to loop over the `argtuples`.\n",
      "If one of them is an argument and does not have a concrete type, then the non-concrete return type may be justified."
     ]
    },
    {
     "cell_type": "heading",
     "level": 2,
     "metadata": {},
     "source": [
      "Handling Special Cases"
     ]
    },
    {
     "cell_type": "markdown",
     "metadata": {},
     "source": [
      "While the above covers most of the considerations in the code, there are a couple of special cases discovered during testing."
     ]
    },
    {
     "cell_type": "heading",
     "level": 3,
     "metadata": {},
     "source": [
      "Varargs"
     ]
    },
    {
     "cell_type": "markdown",
     "metadata": {},
     "source": [
      "In some cases, the list of arguments is not just symbols.\n",
      "This occurs in functions using variable length argument lists."
     ]
    },
    {
     "cell_type": "code",
     "collapsed": false,
     "input": [
      "methods(yield)"
     ],
     "language": "python",
     "metadata": {},
     "outputs": [
      {
       "html": [
        "1 method for generic function <b>yield</b>:<ul><li> yield(args...) at <a href=\"https://github.com/JuliaLang/julia/tree/d5d116cebb072bcd6222fb3147b947bb31c0a88b/base/multi.jl#L1537\" target=\"_blank\">multi.jl:1537</a></ul>"
       ],
       "metadata": {},
       "output_type": "pyout",
       "prompt_number": 20,
       "text": [
        "# 1 method for generic function \"yield\":\n",
        "yield(args...) at multi.jl:1537"
       ]
      }
     ],
     "prompt_number": 20
    },
    {
     "cell_type": "code",
     "collapsed": false,
     "input": [
      "code_typed(yield,(Int,))[1].args[1] #equivalent to argnames above"
     ],
     "language": "python",
     "metadata": {},
     "outputs": [
      {
       "metadata": {},
       "output_type": "pyout",
       "prompt_number": 21,
       "text": [
        "1-element Array{Any,1}:\n",
        " :(args::top(apply_type)(Vararg,Any))"
       ]
      }
     ],
     "prompt_number": 21
    },
    {
     "cell_type": "code",
     "collapsed": false,
     "input": [
      "ans[1].args[1]"
     ],
     "language": "python",
     "metadata": {},
     "outputs": [
      {
       "metadata": {},
       "output_type": "pyout",
       "prompt_number": 22,
       "text": [
        ":args"
       ]
      }
     ],
     "prompt_number": 22
    },
    {
     "cell_type": "heading",
     "level": 3,
     "metadata": {},
     "source": [
      "Common String Abstract/Union Types"
     ]
    },
    {
     "cell_type": "markdown",
     "metadata": {},
     "source": [
      "String literals in Julia are either `ASCIIString`s or `UTF8String`s, depending on whether they have at least one non-ASCII character in them.\n",
      "This is a reason that `Union(ASCIIString,UTF8String)` and `ByteString` are common return types.\n",
      "This causes a lot of false positives; this is not considered to be a problem to fix."
     ]
    },
    {
     "cell_type": "code",
     "collapsed": false,
     "input": [
      "isleaftype(ByteString)"
     ],
     "language": "python",
     "metadata": {},
     "outputs": [
      {
       "metadata": {},
       "output_type": "pyout",
       "prompt_number": 23,
       "text": [
        "false"
       ]
      }
     ],
     "prompt_number": 23
    },
    {
     "cell_type": "code",
     "collapsed": false,
     "input": [
      "isleaftype(Union(ASCIIString, UTF8String))"
     ],
     "language": "python",
     "metadata": {},
     "outputs": [
      {
       "metadata": {},
       "output_type": "pyout",
       "prompt_number": 24,
       "text": [
        "false"
       ]
      }
     ],
     "prompt_number": 24
    },
    {
     "cell_type": "markdown",
     "metadata": {},
     "source": [
      "To accomodate filtering these, I've added a pair of keyword arguments to turn on filtering.\n",
      "When that one `UnionType` is filtered out, 80% of the previously failing methods in the Base module pass."
     ]
    },
    {
     "cell_type": "heading",
     "level": 2,
     "metadata": {},
     "source": [
      "Function to Handle One Method"
     ]
    },
    {
     "cell_type": "markdown",
     "metadata": {},
     "source": [
      "Below is the full code of my current implementation:"
     ]
    },
    {
     "cell_type": "code",
     "collapsed": false,
     "input": [
      "function returnbasedonvalues(args...;istrunion=false,ibytestring=false)\n",
      "    e = code_typed(args...)[1]\n",
      "    body = e.args[3]\n",
      "    if isleaftype(body.typ) || body.typ == None return (body.typ,false) end\n",
      "    if istrunion && body.typ == Union(ASCIIString, UTF8String) return (body.typ,false) end\n",
      "    if ibytestring && body.typ == ByteString return (body.typ,false) end\n",
      "  \n",
      "    argnames = map(x -> isa(x,Symbol) ? x : x.args[1],e.args[1])\n",
      "    argtuples = e.args[2][2]\n",
      "    for (sym,typ,x) in argtuples\n",
      "      if in(sym,argnames) && (!isleaftype(typ))\n",
      "        return (body.typ,false)\n",
      "      end\n",
      "    end\n",
      "end"
     ],
     "language": "python",
     "metadata": {},
     "outputs": [
      {
       "metadata": {},
       "output_type": "pyout",
       "prompt_number": 25,
       "text": [
        "returnbasedonvalues (generic function with 1 method)"
       ]
      }
     ],
     "prompt_number": 25
    },
    {
     "cell_type": "heading",
     "level": 1,
     "metadata": {},
     "source": [
      "Stable Types Inside Loops"
     ]
    },
    {
     "cell_type": "markdown",
     "metadata": {},
     "source": [
      "In Julia, for-loops are generally the fastest way to write code. (Faster than vectorized code; faster than maps or folds.)\n",
      "One way to accidentally decrease their performance is to change the type of a variable in the loop.\n",
      "If all the variables in a loop have stable types, then the code Julia outputs will be the same tight, fast code as a typed, compiled language.\n",
      "If any variable has a type that changes, slower dynamic code will be produced to handle that."
     ]
    },
    {
     "cell_type": "markdown",
     "metadata": {},
     "source": [
      "It can be easy to write code that has this problem, if you're not aware of it, even in simple programs."
     ]
    },
    {
     "cell_type": "code",
     "collapsed": false,
     "input": [
      "x = 5 # x is an Int\n",
      "for i=1:1000\n",
      " x += 100\n",
      " x /= 2 # x is a Float64\n",
      "end \n",
      "x #x is a Float64"
     ],
     "language": "python",
     "metadata": {},
     "outputs": [
      {
       "metadata": {},
       "output_type": "pyout",
       "prompt_number": 26,
       "text": [
        "100.0"
       ]
      }
     ],
     "prompt_number": 26
    },
    {
     "cell_type": "markdown",
     "metadata": {},
     "source": [
      "In this code example, `x` begins life as an `Int`. In the first iteration of the loop, `x += 100` takes `x` as an `Int` and returns an `Int`; `x /= 2` takes this new `Int` and returns a `Float64`. After this, `x` will be a `Float64` for all the remaining iterations of the loop. This means that the extra dynamic code that is needed to handle `x` being either an `Int` or a `Float64` slows down all the iterations, despite only being needed for the first one. This can be fixed by making `x` a `Float64` from the start: `x = 5.0`."
     ]
    },
    {
     "cell_type": "code",
     "collapsed": false,
     "input": [
      "x = 5.0 # x is a Float64\n",
      "for i=1:1000\n",
      " x += 100\n",
      " x /= 2 # x is a Float64\n",
      "end \n",
      "x #x is a Float64"
     ],
     "language": "python",
     "metadata": {},
     "outputs": [
      {
       "metadata": {},
       "output_type": "pyout",
       "prompt_number": 27,
       "text": [
        "100.0"
       ]
      }
     ],
     "prompt_number": 27
    },
    {
     "cell_type": "markdown",
     "metadata": {},
     "source": [
      "Variables whose types change in loops can be detected in generic functions by looking at the output of `code_typed`.\n",
      "Since loops are lowered to gotos, we need to first find the loops and then check the types of the variables involved.\n",
      "Finding loops can be as simple as looking for gotos that jump backwards in the function: gotos whose labels precede them.\n",
      "Each instruction between the goto and its label is part of the loop body.\n",
      "For each instruction in the loop body, we can look at the inferred type of any variables involved.\n",
      "If the inferred type is a UnionType (or not a leaf type), then the variable's type is unstable."
     ]
    },
    {
     "cell_type": "heading",
     "level": 2,
     "metadata": {},
     "source": [
      "Collecting the Contents of a Loop"
     ]
    },
    {
     "cell_type": "markdown",
     "metadata": {},
     "source": [
      "Let's begin by defining an example function to work with."
     ]
    },
    {
     "cell_type": "code",
     "collapsed": false,
     "input": [
      "function bar(x::Int)\n",
      "  for i=1:1000\n",
      "    x += 100\n",
      "    x /= 2\n",
      "  end\n",
      "  x\n",
      "end"
     ],
     "language": "python",
     "metadata": {},
     "outputs": [
      {
       "metadata": {},
       "output_type": "pyout",
       "prompt_number": 38,
       "text": [
        "bar (generic function with 1 method)"
       ]
      }
     ],
     "prompt_number": 38
    },
    {
     "cell_type": "markdown",
     "metadata": {},
     "source": [
      "The goal is to write a function that takes a method of a generic function and extracts the typed body of any loops.\n",
      "First, we can get the typed body of the function."
     ]
    },
    {
     "cell_type": "code",
     "collapsed": false,
     "input": [
      "b = body(bar,(Int,))[1]"
     ],
     "language": "python",
     "metadata": {},
     "outputs": [
      {
       "metadata": {},
       "output_type": "pyout",
       "prompt_number": 40,
       "text": [
        "16-element Array{Any,1}:\n",
        " :( # In[38], line 2:)                                       \n",
        " :(#s79 = 1)                                                 \n",
        " :(1: )                                                      \n",
        " :(unless top(sle_int)(#s79::Int64,1000)::Bool goto 2)       \n",
        " :(i = #s79::Int64)                                          \n",
        " :( # line 3:)                                               \n",
        " :(x = +(x::Union(Int64,Float64),100)::Union(Int64,Float64)) \n",
        " :( # line 4:)                                               \n",
        " :(x = /(x::Union(Int64,Float64),2)::Float64)                \n",
        " :(3: )                                                      \n",
        " :(#s79 = top(box)(Int64,top(add_int)(1,#s79::Int64))::Int64)\n",
        " :(goto 1)                                                   \n",
        " :(2: )                                                      \n",
        " :(0: )                                                      \n",
        " :( # line 6:)                                               \n",
        " :(return x::Union(Int64,Float64))                           "
       ]
      }
     ],
     "prompt_number": 40
    },
    {
     "cell_type": "markdown",
     "metadata": {},
     "source": [
      "The above is an array of `Expr`s and other expression types.\n",
      "We want to find out if, for each `goto` and `unless`, whether their destination label comes before them.\n",
      "Another way to do this is to look at all labels, and check for `goto`s that jump back to each one.\n",
      "While checking to see if we're in a loop, we'll also need to deal with nested loops and knowing when we've finished our loop."
     ]
    },
    {
     "cell_type": "code",
     "collapsed": false,
     "input": [
      "inloops = 0\n",
      "ends = Int[]\n",
      "loopbody = {}\n",
      "for i in 1:length(b)\n",
      "  if typeof(b[i]) == LabelNode\n",
      "    l = b[i].label\n",
      "    jumpback = findnext(x -> typeof(x) == GotoNode && x.label == l, b, i)\n",
      "    if jumpback !=0 #then there's a goto that jumps here\n",
      "      println(\"loop from $i to $jumpback\")\n",
      "      push!(ends,jumpback)\n",
      "      inloops += 1\n",
      "    end\n",
      "  end\n",
      " \n",
      "  if inloops > 0\n",
      "    println(\"\\t$(b[i])\")\n",
      "    push!(loopbody,b[i])\n",
      "  end\n",
      "\n",
      "  if i in ends\n",
      "    splice!(ends,findfirst(ends,i))\n",
      "    inloops -= 1\n",
      "  end\n",
      " \n",
      "end"
     ],
     "language": "python",
     "metadata": {},
     "outputs": [
      {
       "output_type": "stream",
       "stream": "stdout",
       "text": [
        "loop from 3 to 12\n"
       ]
      },
      {
       "output_type": "stream",
       "stream": "stdout",
       "text": [
        "\t:(1: )\n",
        "\t:(unless top(sle_int)(#s79::Int64,1000)::Bool goto 2)\n",
        "\t:(i = #s79::Int64)\n",
        "\t:( # line 3:)\n",
        "\t:(x = +(x::Union(Int64,Float64),100)::Union(Int64,Float64))\n",
        "\t:( # line 4:)\n",
        "\t:(x = /(x::Union(Int64,Float64),2)::Float64)\n",
        "\t:(3: )\n",
        "\t:(#s79 = top(box)(Int64,top(add_int)(1,#s79::Int64))::Int64)\n",
        "\t:(goto 1)\n"
       ]
      }
     ],
     "prompt_number": 44
    },
    {
     "cell_type": "markdown",
     "metadata": {},
     "source": [
      "We still have a lot of noise here, in the form of line numbers and irrelevant labels."
     ]
    },
    {
     "cell_type": "code",
     "collapsed": false,
     "input": [
      "typeof(loopbody[1]) #:(1: )"
     ],
     "language": "python",
     "metadata": {},
     "outputs": [
      {
       "metadata": {},
       "output_type": "pyout",
       "prompt_number": 31,
       "text": [
        "LabelNode"
       ]
      }
     ],
     "prompt_number": 31
    },
    {
     "cell_type": "code",
     "collapsed": false,
     "input": [
      "typeof(loopbody[4]) #:( # line 3:)"
     ],
     "language": "python",
     "metadata": {},
     "outputs": [
      {
       "metadata": {},
       "output_type": "pyout",
       "prompt_number": 32,
       "text": [
        "LineNumberNode"
       ]
      }
     ],
     "prompt_number": 32
    },
    {
     "cell_type": "code",
     "collapsed": false,
     "input": [
      "filter(x -> typeof(x) != LineNumberNode && typeof(x) != LabelNode, loopbody)"
     ],
     "language": "python",
     "metadata": {},
     "outputs": [
      {
       "metadata": {},
       "output_type": "pyout",
       "prompt_number": 45,
       "text": [
        "6-element Array{Any,1}:\n",
        " :(unless top(sle_int)(#s79::Int64,1000)::Bool goto 2)       \n",
        " :(i = #s79::Int64)                                          \n",
        " :(x = +(x::Union(Int64,Float64),100)::Union(Int64,Float64)) \n",
        " :(x = /(x::Union(Int64,Float64),2)::Float64)                \n",
        " :(#s79 = top(box)(Int64,top(add_int)(1,#s79::Int64))::Int64)\n",
        " :(goto 1)                                                   "
       ]
      }
     ],
     "prompt_number": 45
    },
    {
     "cell_type": "markdown",
     "metadata": {},
     "source": [
      "This is quite nice. We have the `unless` that contains the exit condition for the for loop, we have the loop variable `i` and `#s79`, and we have the two function calls that modify `x`."
     ]
    },
    {
     "cell_type": "code",
     "collapsed": false,
     "input": [
      "  # This is a function for trying to detect loops in a method of a generic function\n",
      "  # It takes the same arguments as code_typed\n",
      "  # And returns the lines that are inside one or more loops\n",
      "  function loopcontents(args...)\n",
      "    e = code_typed(args...)[1]\n",
      "    body = e.args[3].args\n",
      "    loops = Int[]\n",
      "    nesting = 0\n",
      "    lines = {}\n",
      "    for i in 1:length(body)\n",
      "      if typeof(body[i]) == LabelNode\n",
      "        l = body[i].label\n",
      "        jumpback = findnext(x-> typeof(x) == GotoNode && x.label == l, body, i)\n",
      "        if jumpback != 0\n",
      "          #println(\"$i: START LOOP: ends at $jumpback\")\n",
      "          push!(loops,jumpback)\n",
      "          nesting += 1\n",
      "        end\n",
      "      end\n",
      "\n",
      "      if nesting > 0\n",
      "        #if typeof(body[i]) == Expr\n",
      "        #  println(\"$i: \\t\", body[i])\n",
      "        #elseif typeof(body[i]) == LabelNode || typeof(body[i]) == GotoNode\n",
      "        #  println(\"$i: \", typeof(body[i]), \" \", body[i].label)\n",
      "        #elseif typeof(body[i]) != LineNumberNode\n",
      "        #  println(\"$i: \", typeof(body[i]))\n",
      "        #end\n",
      "        push!(lines,(i,body[i]))\n",
      "      end\n",
      "\n",
      "      if typeof(body[i]) == GotoNode && in(i,loops)\n",
      "        splice!(loops,findfirst(loops,i))\n",
      "        nesting -= 1\n",
      "        #println(\"$i: END LOOP: jumps to \",body[i].label)\n",
      "      end\n",
      "    end\n",
      "    lines\n",
      "  end"
     ],
     "language": "python",
     "metadata": {},
     "outputs": [
      {
       "metadata": {},
       "output_type": "pyout",
       "prompt_number": 34,
       "text": [
        "loopcontents (generic function with 1 method)"
       ]
      }
     ],
     "prompt_number": 34
    },
    {
     "cell_type": "code",
     "collapsed": false,
     "input": [
      "  function find_loose_types(arr::Vector)\n",
      "    lines = ASCIIString[]\n",
      "    for (i,e) in arr\n",
      "      if typeof(e) == Expr\n",
      "        es = copy(e.args)\n",
      "        while !isempty(es)\n",
      "          e1 = pop!(es)\n",
      "          if typeof(e1) == Expr\n",
      "            append!(es,e1.args)\n",
      "          elseif typeof(e1) == SymbolNode && !isleaftype(e1.typ) && typeof(e1.typ) == UnionType\n",
      "            push!(lines,\"\\t\\t$i: $(e1.name): $(e1.typ)\")\n",
      "          end \n",
      "        end                          \n",
      "      end\n",
      "    end\n",
      "    isempty(lines) ? lines : unshift!(lines,\"\")\n",
      "  end\n"
     ],
     "language": "python",
     "metadata": {},
     "outputs": [
      {
       "metadata": {},
       "output_type": "pyout",
       "prompt_number": 35,
       "text": [
        "find_loose_types (generic function with 1 method)"
       ]
      }
     ],
     "prompt_number": 35
    },
    {
     "cell_type": "heading",
     "level": 1,
     "metadata": {},
     "source": [
      "Statically Detecting `NoMethodError`s"
     ]
    },
    {
     "cell_type": "markdown",
     "metadata": {},
     "source": [
      "The most obviously useful kind of type checking in Julia is to prevent \"No Method Error\"s. This presents a challenge: methods are often added to generic functions after the fact in Julia, so this checking must be done with as much awareness as possible of the environment in which the call will be made in order to avoid false positives."
     ]
    },
    {
     "cell_type": "markdown",
     "metadata": {},
     "source": [
      "I have not yet implemented this because I don't know how to get into the proper context to make the check. I could write first version which ignores this problem."
     ]
    },
    {
     "cell_type": "code",
     "collapsed": false,
     "input": [
      "type CallSignature\n",
      "  name::Symbol\n",
      "  argtypes::Array{DataType,1}\n",
      "end"
     ],
     "language": "python",
     "metadata": {},
     "outputs": [],
     "prompt_number": 36
    },
    {
     "cell_type": "code",
     "collapsed": false,
     "input": [
      "function find_no_method_errors(args...;mod=None)\n",
      "  callsigs = find_method_calls(args...)\n",
      "  output = (Function,CallSignature)[]\n",
      "  for callsig in callsigs\n",
      "    f = mod == None ? eval(callsig.name) : eval(mod,callsig.name)\n",
      "    options = methods(f,tuple(callsig.argtypes...))\n",
      "    if length(options) == 0\n",
      "      push!(output,(f,callsig))\n",
      "    end\n",
      "  end\n",
      "  output\n",
      "end"
     ],
     "language": "python",
     "metadata": {},
     "outputs": [
      {
       "metadata": {},
       "output_type": "pyout",
       "prompt_number": 37,
       "text": [
        "find_no_method_errors (generic function with 1 method)"
       ]
      }
     ],
     "prompt_number": 37
    },
    {
     "cell_type": "code",
     "collapsed": false,
     "input": [
      "function find_method_calls(args...)\n",
      "  e = code_typed(args...)[1]\n",
      "  body = e.args[3].args\n",
      "  lines = CallSignature[]\n",
      "  for b in body\n",
      "    if typeof(b) == Expr\n",
      "      if b.head == :return # want to catch function calls nested in a return\n",
      "        append!(body,b.args)\n",
      "      elseif b.head == :call\n",
      "        if typeof(b.args[1]) == Symbol\n",
      "          #@show b.args, typeof(b.args[3])\n",
      "          cs = CallSignature(b.args[1],[typeof(e) == Expr ? e.typ :\n",
      "            typeof(e) == Symbol ? Any :\n",
      "            typeof(e) for e in b.args[2:]])\n",
      "          push!(lines,cs)\n",
      "        end\n",
      "      end\n",
      "    end\n",
      "  end\n",
      "  lines\n",
      "end"
     ],
     "language": "python",
     "metadata": {},
     "outputs": [
      {
       "metadata": {},
       "output_type": "pyout",
       "prompt_number": 38,
       "text": [
        "find_method_calls (generic function with 1 method)"
       ]
      }
     ],
     "prompt_number": 38
    },
    {
     "cell_type": "code",
     "collapsed": false,
     "input": [
      "function aba(x)\n",
      "  2\n",
      "end\n",
      "function aba(x,y::Float64)\n",
      "  3.14\n",
      "end\n",
      "function foo(x)\n",
      "  aba(x,4)\n",
      "end"
     ],
     "language": "python",
     "metadata": {},
     "outputs": [
      {
       "metadata": {},
       "output_type": "pyout",
       "prompt_number": 39,
       "text": [
        "foo (generic function with 2 methods)"
       ]
      }
     ],
     "prompt_number": 39
    },
    {
     "cell_type": "code",
     "collapsed": false,
     "input": [
      "c = find_no_method_errors(foo,(Float64,))"
     ],
     "language": "python",
     "metadata": {},
     "outputs": [
      {
       "metadata": {},
       "output_type": "pyout",
       "prompt_number": 42,
       "text": [
        "1-element Array{(Function,CallSignature),1}:\n",
        " (aba,CallSignature(:aba,[SymbolNode,Int64]))"
       ]
      }
     ],
     "prompt_number": 42
    },
    {
     "cell_type": "code",
     "collapsed": false,
     "input": [
      "code_typed(foo,(Number,))"
     ],
     "language": "python",
     "metadata": {},
     "outputs": [
      {
       "metadata": {},
       "output_type": "pyout",
       "prompt_number": 44,
       "text": [
        "2-element Array{Any,1}:\n",
        " :($(Expr(:lambda, {:x}, {{},{{:x,Int64,0}},{}}, quote  # In[12], line 2:\n",
        "        unless top(slt_int)(5,x::Int64)::Bool goto 0 # line 3:\n",
        "        return x::Int64\n",
        "        goto 1\n",
        "        0:  # In[12], line 5:\n",
        "        return false\n",
        "        1: \n",
        "    end)))\n",
        " :($(Expr(:lambda, {:x}, {{},{{:x,Number,0}},{}}, quote  # In[39], line 8:\n",
        "        return aba(x::Number,4)::None\n",
        "    end)))                                                                                                                              "
       ]
      }
     ],
     "prompt_number": 44
    },
    {
     "cell_type": "code",
     "collapsed": false,
     "input": [],
     "language": "python",
     "metadata": {},
     "outputs": []
    }
   ],
   "metadata": {}
  }
 ]
}