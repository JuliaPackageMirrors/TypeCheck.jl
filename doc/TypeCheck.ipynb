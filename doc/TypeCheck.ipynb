{
 "metadata": {
  "language": "Julia",
  "name": ""
 },
 "nbformat": 3,
 "nbformat_minor": 0,
 "worksheets": [
  {
   "cells": [
    {
     "cell_type": "heading",
     "level": 1,
     "metadata": {},
     "source": [
      "A Summary of Julia"
     ]
    },
    {
     "cell_type": "markdown",
     "metadata": {},
     "source": [
      "Julia is a new language designed for technical computing.\n",
      "It is as easy to use and general-purpose as Python,\n",
      "but designed for fast computation, low-level control, and easy to express math.\n",
      "Julia is high-performance, dynamically-typed, and JIT-compiled.\n",
      "It is not focused on new ideas, but on executing existing ideas well, with a focus on being practical and approachable.\n",
      "As a language, some of Julia's distinctive features include multiple dispatch, first-class types, and Lisp-style macros."
     ]
    },
    {
     "cell_type": "heading",
     "level": 2,
     "metadata": {},
     "source": [
      "The Julia Type System"
     ]
    },
    {
     "cell_type": "markdown",
     "metadata": {},
     "source": [
      "Every value in Julia has a type; variables contain values, but do not themselves have types.\n",
      "Types are arranged into a hierarchy of abstract and concrete types.\n",
      "Abstract types can have subtypes, but cannot be instantiated and do not have properties.\n",
      "Concrete types can be instantiated and have zero or more properties, but cannot have subtypes.\n",
      "Every type has a super type.\n",
      "At top of the hierarchy is the `Any` type; the super type of `Any` is `Any`.\n",
      "\n",
      "In Julia, types are first-class; types are of type DataType, which is itself of type DataType.\n",
      "Types are used for inference, optimization, dispatch, and documentation, but not for type checking.\n",
      "Because Julia still works (but more slowly) without any type inference, all of the type inference is implemented in the language.\n",
      "\n",
      "Types can also take parameters; these can be types or `Int`s. For example, `Array{T,N}` is parameterized by the element type and the number of dimensions. Instances of the same type (such as `Array`) with different type parameters (say `Array{Int,6}` and `Array{Number,4}`) are never subtypes of one another."
     ]
    },
    {
     "cell_type": "markdown",
     "metadata": {},
     "source": [
      "To define a type, you use the `type` keyword:"
     ]
    },
    {
     "cell_type": "code",
     "collapsed": false,
     "input": [
      "type Point{T <: Number}\n",
      "    x::T\n",
      "    y::T\n",
      "end"
     ],
     "language": "python",
     "metadata": {},
     "outputs": [],
     "prompt_number": 1
    },
    {
     "cell_type": "markdown",
     "metadata": {},
     "source": [
      "The Point{T} type will have two properties, `x` and `y`. For any `Point`, the two properties will share a type, and their type will be a subtype of `Number`. From the definition, we also know that when a `Point` is represented in memory, `x` will precede `y`. Julia types are laid out in memory in a way compatible with C structs, which made implementing Julia's C calling functionality easier (and the result more efficient)."
     ]
    },
    {
     "cell_type": "heading",
     "level": 2,
     "metadata": {},
     "source": [
      "Introspection in Julia"
     ]
    },
    {
     "cell_type": "markdown",
     "metadata": {},
     "source": [
      "Julia has admirable introspection and reflection abilities, which are very useful for writing static analysis.\n",
      "For any named function, you can get a type-inferred AST with a simple function call:"
     ]
    },
    {
     "cell_type": "code",
     "collapsed": false,
     "input": [
      "function foo(x::Int)\n",
      "    z = x + 5\n",
      "    return 2 * z\n",
      "end\n",
      "\n",
      "code_typed(foo,(Int,))"
     ],
     "language": "python",
     "metadata": {},
     "outputs": [
      {
       "metadata": {},
       "output_type": "pyout",
       "prompt_number": 2,
       "text": [
        "1-element Array{Any,1}:\n",
        " :($(Expr(:lambda, {:x}, {{:z},{{:x,Int64,0},{:z,Int64,18}},{}}, quote  # In[2], line 2:\n",
        "        z = top(box)(Int64,top(add_int)(x::Int64,5))::Int64 # line 3:\n",
        "        return top(box)(Int64,top(mul_int)(2,z::Int64))::Int64\n",
        "    end)))"
       ]
      }
     ],
     "prompt_number": 2
    },
    {
     "cell_type": "markdown",
     "metadata": {},
     "source": [
      "The `code_typed` function takes a function and a method signature.\n",
      "Every named function is a generic function: it has one or more methods, each with their own type signature.\n",
      "Julia uses multiple dispatch, which means that it considers the type, number, and order of all the arguments to pick the best match to a call.\n",
      "\n",
      "`code_typed` returns an  untyped `Array` of `Expr`s, the type that represents a node of the Julia AST.\n",
      "For many invocations, this `Array` will only have one element. When the provided signature could match more than one existing method, all possible matches are returned. \"Possible\" matches occur when you pass an abstract type as part of the signature and some methods of the function accept subtypes of that type. The type of an actual value is always concrete, so the method that would actually get called would vary."
     ]
    },
    {
     "cell_type": "code",
     "collapsed": false,
     "input": [
      "e = code_typed(foo,(Int,))[1] #Julia indexes from 1"
     ],
     "language": "python",
     "metadata": {},
     "outputs": [
      {
       "metadata": {},
       "output_type": "pyout",
       "prompt_number": 3,
       "text": [
        ":($(Expr(:lambda, {:x}, {{:z},{{:x,Int64,0},{:z,Int64,18}},{}}, quote  # In[2], line 2:\n",
        "        z = top(box)(Int64,top(add_int)(x::Int64,5))::Int64 # line 3:\n",
        "        return top(box)(Int64,top(mul_int)(2,z::Int64))::Int64\n",
        "    end)))"
       ]
      }
     ],
     "prompt_number": 3
    },
    {
     "cell_type": "markdown",
     "metadata": {},
     "source": [
      "An `Expr` has three fields: `head`, `args`, and `typ`."
     ]
    },
    {
     "cell_type": "code",
     "collapsed": false,
     "input": [
      "names(e)"
     ],
     "language": "python",
     "metadata": {},
     "outputs": [
      {
       "metadata": {},
       "output_type": "pyout",
       "prompt_number": 4,
       "text": [
        "3-element Array{Symbol,1}:\n",
        " :head\n",
        " :args\n",
        " :typ "
       ]
      }
     ],
     "prompt_number": 4
    },
    {
     "cell_type": "markdown",
     "metadata": {},
     "source": [
      "* `head` is a symbol indicating the type of expression. For `Expr`s returned by `code_typed`, this will be `:lambda`. (In Julia, `:foo` is a way to write \"the symbol `foo`\".)\n",
      "* `typ` is the return type of the method.\n",
      "* `args` is an `Array` of `Array`s. It contains information about the variables (local, arguments, captured) and body of the function. I'll explain more about the structure of `args` as needed in the rest of this document."
     ]
    },
    {
     "cell_type": "heading",
     "level": 2,
     "metadata": {},
     "source": [
      "Helper Functions"
     ]
    },
    {
     "cell_type": "markdown",
     "metadata": {},
     "source": [
      "While introspecting on functions is surprisingly easy, there is a lot of ugly code created by the unfortunate structure of the `Expr` type. As a result, I will start by describing a number of helper functions, which will give you a better idea of how it is structured."
     ]
    },
    {
     "cell_type": "heading",
     "level": 3,
     "metadata": {},
     "source": [
      "A Function to Retrieve Return Types"
     ]
    },
    {
     "cell_type": "markdown",
     "metadata": {},
     "source": [
      "`code_typed` returns `Expr`s that have lots of type annotations, including the return type of the function.\n",
      "The outer `Expr` with `head` `:lambda` will have `typ` `Any`.\n",
      "The third element of `args` will be another `Expr` with `head` `:body`.\n",
      "The `typ` property of this Expr will be set to the inferred return type of the function. (There is currently no syntax in Julia to annotate function return types.)"
     ]
    },
    {
     "cell_type": "code",
     "collapsed": false,
     "input": [
      "code_typed(foo,(Int,))[1].args[3].typ"
     ],
     "language": "python",
     "metadata": {},
     "outputs": [
      {
       "metadata": {},
       "output_type": "pyout",
       "prompt_number": 5,
       "text": [
        "Int64"
       ]
      }
     ],
     "prompt_number": 5
    },
    {
     "cell_type": "markdown",
     "metadata": {},
     "source": [
      "Because this is not especially readable, I wrote a helper function to pull out the return type:"
     ]
    },
    {
     "cell_type": "code",
     "collapsed": false,
     "input": [
      "returntype(e::Expr) =  e.args[3].typ"
     ],
     "language": "python",
     "metadata": {},
     "outputs": [
      {
       "metadata": {},
       "output_type": "pyout",
       "prompt_number": 6,
       "text": [
        "returntype (generic function with 1 method)"
       ]
      }
     ],
     "prompt_number": 6
    },
    {
     "cell_type": "heading",
     "level": 4,
     "metadata": {},
     "source": [
      "Usage examples:"
     ]
    },
    {
     "cell_type": "markdown",
     "metadata": {},
     "source": [
      "For a call to `code_typed` that we know will have one method returned:"
     ]
    },
    {
     "cell_type": "code",
     "collapsed": false,
     "input": [
      "returntype(code_typed(foo,(Int,))[1])"
     ],
     "language": "python",
     "metadata": {},
     "outputs": [
      {
       "metadata": {},
       "output_type": "pyout",
       "prompt_number": 7,
       "text": [
        "Int64"
       ]
      }
     ],
     "prompt_number": 7
    },
    {
     "cell_type": "markdown",
     "metadata": {},
     "source": [
      "For calls that might have more than one result:"
     ]
    },
    {
     "cell_type": "code",
     "collapsed": false,
     "input": [
      "Type[returntype(t) for t in code_typed(+,(Number,))]"
     ],
     "language": "python",
     "metadata": {},
     "outputs": [
      {
       "metadata": {},
       "output_type": "pyout",
       "prompt_number": 8,
       "text": [
        "2-element Array{Type{T<:Top},1}:\n",
        " Int64 \n",
        " Number"
       ]
      }
     ],
     "prompt_number": 8
    },
    {
     "cell_type": "code",
     "collapsed": false,
     "input": [
      "map(returntype,code_typed(+,(Any,Any,Any)))"
     ],
     "language": "python",
     "metadata": {},
     "outputs": [
      {
       "metadata": {},
       "output_type": "pyout",
       "prompt_number": 9,
       "text": [
        "3-element Array{Any,1}:\n",
        " BigInt  \n",
        " BigFloat\n",
        " Any     "
       ]
      }
     ],
     "prompt_number": 9
    },
    {
     "cell_type": "heading",
     "level": 3,
     "metadata": {},
     "source": [
      "A Function to Retrieve All Expression in the Function Body"
     ]
    },
    {
     "cell_type": "markdown",
     "metadata": {},
     "source": [
      "The inner `Expr` with head `:body` contains the body of the function: its `args` is an array of `Expr`s.\n",
      "This is another convenience function to make the code more readable."
     ]
    },
    {
     "cell_type": "code",
     "collapsed": false,
     "input": [
      "body(e::Expr) = e.args[3].args"
     ],
     "language": "python",
     "metadata": {},
     "outputs": [
      {
       "metadata": {},
       "output_type": "pyout",
       "prompt_number": 10,
       "text": [
        "body (generic function with 1 method)"
       ]
      }
     ],
     "prompt_number": 10
    },
    {
     "cell_type": "markdown",
     "metadata": {},
     "source": [
      "It is used analogously to `returntype` above."
     ]
    },
    {
     "cell_type": "code",
     "collapsed": false,
     "input": [
      "body(code_typed(foo,(Int,))[1])"
     ],
     "language": "python",
     "metadata": {},
     "outputs": [
      {
       "metadata": {},
       "output_type": "pyout",
       "prompt_number": 11,
       "text": [
        "4-element Array{Any,1}:\n",
        " :( # In[2], line 2:)                                     \n",
        " :(z = top(box)(Int64,top(add_int)(x::Int64,5))::Int64)   \n",
        " :( # line 3:)                                            \n",
        " :(return top(box)(Int64,top(mul_int)(2,z::Int64))::Int64)"
       ]
      }
     ],
     "prompt_number": 11
    },
    {
     "cell_type": "heading",
     "level": 3,
     "metadata": {},
     "source": [
      "A Function to Retrieve All Return Statements From a Function"
     ]
    },
    {
     "cell_type": "markdown",
     "metadata": {},
     "source": [
      "`Expr`s that represent return statements have `head` set to `:return`, so the below function pulls them out of the body."
     ]
    },
    {
     "cell_type": "code",
     "collapsed": false,
     "input": [
      "returns(e::Expr) = filter(x-> typeof(x) == Expr && x.head==:return,body(e))"
     ],
     "language": "python",
     "metadata": {},
     "outputs": [
      {
       "metadata": {},
       "output_type": "pyout",
       "prompt_number": 12,
       "text": [
        "returns (generic function with 1 method)"
       ]
      }
     ],
     "prompt_number": 12
    },
    {
     "cell_type": "code",
     "collapsed": false,
     "input": [
      "returns(code_typed(foo,(Int,))[1])"
     ],
     "language": "python",
     "metadata": {},
     "outputs": [
      {
       "metadata": {},
       "output_type": "pyout",
       "prompt_number": 13,
       "text": [
        "1-element Array{Any,1}:\n",
        " :(return top(box)(Int64,top(mul_int)(2,z::Int64))::Int64)"
       ]
      }
     ],
     "prompt_number": 13
    },
    {
     "cell_type": "code",
     "collapsed": false,
     "input": [
      "function barr(x::Int)\n",
      "    x + 2\n",
      "end\n",
      "\n",
      "returns(code_typed(barr,(Int,))[1])"
     ],
     "language": "python",
     "metadata": {},
     "outputs": [
      {
       "metadata": {},
       "output_type": "pyout",
       "prompt_number": 14,
       "text": [
        "1-element Array{Any,1}:\n",
        " :(return top(box)(Int64,top(add_int)(x::Int64,2))::Int64)"
       ]
      }
     ],
     "prompt_number": 14
    },
    {
     "cell_type": "markdown",
     "metadata": {},
     "source": [
      "Notice that we still get a `:return`, even if we don't use the keyword `return`. The last expression in a function becomes the return value if there is no `return`, and this is expressed in the AST by desugaring to a normal `:return`."
     ]
    },
    {
     "cell_type": "heading",
     "level": 3,
     "metadata": {},
     "source": [
      "Other Helper Functions"
     ]
    },
    {
     "cell_type": "markdown",
     "metadata": {},
     "source": [
      "My project resulted in the `TypeCheck.jl` package for Julia. It is unlikely to be worth the space to explain the implementation of all the other helper functions I wrote here. I'll use functions from `TypeCheck` later, with comments explaining briefly what they do."
     ]
    },
    {
     "cell_type": "heading",
     "level": 1,
     "metadata": {},
     "source": [
      "Checking for Stable Return Types"
     ]
    },
    {
     "cell_type": "markdown",
     "metadata": {},
     "source": [
      "It is good style in Julia for the return type of a method to only depend on the types of the arguments and not on their values.\n",
      "This stability makes behavior more predictable for programmers.\n",
      "It also allows type inference to work better -- stable types on called methods allows stable types on the variables you put the return values into."
     ]
    },
    {
     "cell_type": "markdown",
     "metadata": {},
     "source": [
      "The following method is a simple example of an unstable return type.\n",
      "Sometimes it returns an `Int` and sometimes a `Bool`.\n",
      "The return type of this method would be inferred as `Union(Int64,Bool)`."
     ]
    },
    {
     "cell_type": "code",
     "collapsed": false,
     "input": [
      "function unstable(x::Int)\n",
      "  if x > 5\n",
      "    return x\n",
      "  else\n",
      "    return false\n",
      "  end\n",
      "end"
     ],
     "language": "python",
     "metadata": {},
     "outputs": [
      {
       "metadata": {},
       "output_type": "pyout",
       "prompt_number": 15,
       "text": [
        "unstable (generic function with 1 method)"
       ]
      }
     ],
     "prompt_number": 15
    },
    {
     "cell_type": "code",
     "collapsed": false,
     "input": [
      "unstable(5)"
     ],
     "language": "python",
     "metadata": {},
     "outputs": [
      {
       "metadata": {},
       "output_type": "pyout",
       "prompt_number": 16,
       "text": [
        "false"
       ]
      }
     ],
     "prompt_number": 16
    },
    {
     "cell_type": "code",
     "collapsed": false,
     "input": [
      "unstable(1337)"
     ],
     "language": "python",
     "metadata": {},
     "outputs": [
      {
       "metadata": {},
       "output_type": "pyout",
       "prompt_number": 17,
       "text": [
        "1337"
       ]
      }
     ],
     "prompt_number": 17
    },
    {
     "cell_type": "markdown",
     "metadata": {},
     "source": [
      "Until now, there has been no way to automatically check that methods do not behave in this way.\n",
      "Julia's base library is mostly free of this, through the use of code review.\n",
      "While there are instances of instability, they tend to be less obvious -- they stem especially from retrieving data from untyped storage, from some interfaces to other environments, or from places where it is necessary (higher-level functions)."
     ]
    },
    {
     "cell_type": "markdown",
     "metadata": {},
     "source": [
      "I have written a static checker to detect that this invariant may be violated.\n",
      "My approach tends more towards false positives than false negatives."
     ]
    },
    {
     "cell_type": "heading",
     "level": 2,
     "metadata": {},
     "source": [
      "Deciding Whether the Return Type is Probably Stable"
     ]
    },
    {
     "cell_type": "markdown",
     "metadata": {},
     "source": [
      "If the types of an argument to a method are all concrete, then the return type should also be concrete."
     ]
    },
    {
     "cell_type": "heading",
     "level": 3,
     "metadata": {},
     "source": [
      "Concrete, Abstract, and Union Types"
     ]
    },
    {
     "cell_type": "markdown",
     "metadata": {},
     "source": [
      "I've already mentioned concrete and abstract types, which are the leaves and internal nodes of the type hierarchy, respectively. Union types are collection of types. They are similar to abstract types in that they have subtypes, but they do not have names and do not alter the type hierarchy. Union types provide a way to say \"Any of these types or their subtypes\"."
     ]
    },
    {
     "cell_type": "code",
     "collapsed": false,
     "input": [
      "[Int, String, Union(Float64,UTF8String)]"
     ],
     "language": "python",
     "metadata": {},
     "outputs": [
      {
       "metadata": {},
       "output_type": "pyout",
       "prompt_number": 18,
       "text": [
        "3-element Array{Type{T<:Top},1}:\n",
        " Int64                    \n",
        " String                   \n",
        " Union(UTF8String,Float64)"
       ]
      }
     ],
     "prompt_number": 18
    },
    {
     "cell_type": "markdown",
     "metadata": {},
     "source": [
      "Unlike concrete and abstract types, union types are not represented by `DataType`; they have their own type, `UnionType`."
     ]
    },
    {
     "cell_type": "code",
     "collapsed": false,
     "input": [
      "[typeof(x) for x in ans]"
     ],
     "language": "python",
     "metadata": {},
     "outputs": [
      {
       "metadata": {},
       "output_type": "pyout",
       "prompt_number": 19,
       "text": [
        "3-element Array{Type{_},1}:\n",
        " DataType \n",
        " DataType \n",
        " UnionType"
       ]
      }
     ],
     "prompt_number": 19
    },
    {
     "cell_type": "markdown",
     "metadata": {},
     "source": [
      "There is a convenient function for differetiating between concrete types and all other types: `isleaftype`.\n",
      "It returns true for concrete types (the leaves of the type hierarchy) and false for abstract types and union types."
     ]
    },
    {
     "cell_type": "code",
     "collapsed": false,
     "input": [
      "isleaftype(Uint128)"
     ],
     "language": "python",
     "metadata": {},
     "outputs": [
      {
       "metadata": {},
       "output_type": "pyout",
       "prompt_number": 20,
       "text": [
        "true"
       ]
      }
     ],
     "prompt_number": 20
    },
    {
     "cell_type": "code",
     "collapsed": false,
     "input": [
      "isleaftype(String)"
     ],
     "language": "python",
     "metadata": {},
     "outputs": [
      {
       "metadata": {},
       "output_type": "pyout",
       "prompt_number": 21,
       "text": [
        "false"
       ]
      }
     ],
     "prompt_number": 21
    },
    {
     "cell_type": "code",
     "collapsed": false,
     "input": [
      "isleaftype(Union(Int,Float32,ASCIIString))"
     ],
     "language": "python",
     "metadata": {},
     "outputs": [
      {
       "metadata": {},
       "output_type": "pyout",
       "prompt_number": 22,
       "text": [
        "false"
       ]
      }
     ],
     "prompt_number": 22
    },
    {
     "cell_type": "heading",
     "level": 3,
     "metadata": {},
     "source": [
      "The Basic Check"
     ]
    },
    {
     "cell_type": "markdown",
     "metadata": {},
     "source": [
      "Given an `Expr` from `code_typed`, we want to grab the types of the arguments and the return type.\n",
      "If the return type is concrete, then everything is fine: a concrete type can't be unstable.\n",
      "If the return type is not concrete and at least one argument is not concrete, then I don't warn about that method: the cause could be the possible types of the non-concrete argument types."
     ]
    },
    {
     "cell_type": "code",
     "collapsed": false,
     "input": [
      "using TypeCheck\n",
      "function isreturnbasedonvalues(e::Expr)\n",
      "  rt = returntype(e)\n",
      "  ts = TypeCheck.argtypes(e) #the type of each argument in e's type signature\n",
      "\n",
      "  if isleaftype(rt) || rt == None\n",
      "    return false\n",
      "  end\n",
      "\n",
      "  for t in ts\n",
      "   if !isleaftype(t)\n",
      "     return false\n",
      "   end\n",
      "  end\n",
      "\n",
      "  return true # return is not concrete type; all args are concrete types\n",
      "end"
     ],
     "language": "python",
     "metadata": {},
     "outputs": [
      {
       "metadata": {},
       "output_type": "pyout",
       "prompt_number": 23,
       "text": [
        "isreturnbasedonvalues (generic function with 1 method)"
       ]
      }
     ],
     "prompt_number": 23
    },
    {
     "cell_type": "code",
     "collapsed": false,
     "input": [
      "isreturnbasedonvalues(code_typed(unstable,(Int,))[1])"
     ],
     "language": "python",
     "metadata": {},
     "outputs": [
      {
       "metadata": {},
       "output_type": "pyout",
       "prompt_number": 24,
       "text": [
        "true"
       ]
      }
     ],
     "prompt_number": 24
    },
    {
     "cell_type": "code",
     "collapsed": false,
     "input": [
      "isreturnbasedonvalues(code_typed(foo,(Int,))[1])"
     ],
     "language": "python",
     "metadata": {},
     "outputs": [
      {
       "metadata": {},
       "output_type": "pyout",
       "prompt_number": 25,
       "text": [
        "false"
       ]
      }
     ],
     "prompt_number": 25
    },
    {
     "cell_type": "markdown",
     "metadata": {},
     "source": [
      "While this check works on simple examples, it tends to have many false-positives when running on large modules, such as the standard library."
     ]
    },
    {
     "cell_type": "heading",
     "level": 2,
     "metadata": {},
     "source": [
      "Preventing One Unstable Function from Spawning Many More Warnings"
     ]
    },
    {
     "cell_type": "markdown",
     "metadata": {},
     "source": [
      "With the simple function above, I get a lot of warnings on the base library. When I dug into the causes of some of them, there was a frequent pattern. Many functions would trigger warnings because their return type depended on a call to another function. A small handful of functions would actually need changes to become type-stable, but they are lost in the sea of their users.\n",
      "\n",
      "These users are sort of \"semi-false-positives\": their return type is actually unstable, but it's not their fault -- and the change probably shouldn't happen there. Most of these functions can be filtered out by looking at the `:return`s in the function body and letting them pass if their return type is determined by `:call`s to other functions (which are unstable).\n",
      "\n",
      "To be more specific, if `foo` calls `barr`, and `barr` is unstable, then I would like to only warn the user about `barr`, not about `foo`. This simple check will only work if `foo`'s final expression or `return` expression is a call to `barr`. Somewhat surprisingly, this seems to work for basically all of the standard library."
     ]
    },
    {
     "cell_type": "heading",
     "level": 3,
     "metadata": {},
     "source": [
      "A Example of Return Type Propogation"
     ]
    },
    {
     "cell_type": "markdown",
     "metadata": {},
     "source": [
      "Here, `f1` is unstable. We should make a change to `f1` if we want it's return type to be stable. `isreturntypebasedonvalues` would also warn about `f2`. However, `f2` just calls `f1`, so there's not necessarily a change to be made to `f2`."
     ]
    },
    {
     "cell_type": "code",
     "collapsed": false,
     "input": [
      "f1(x::Int) = x == 5 ? 42 : pi\n",
      "returntype(code_typed(f1,(Int,))[1])"
     ],
     "language": "python",
     "metadata": {},
     "outputs": [
      {
       "metadata": {},
       "output_type": "pyout",
       "prompt_number": 31,
       "text": [
        "Union(Int64,MathConst{:\u03c0})"
       ]
      }
     ],
     "prompt_number": 31
    },
    {
     "cell_type": "code",
     "collapsed": false,
     "input": [
      "f2(y::Int) = f1(y + 2)\n",
      "returntype(code_typed(f2,(Int,))[1])"
     ],
     "language": "python",
     "metadata": {},
     "outputs": [
      {
       "metadata": {},
       "output_type": "pyout",
       "prompt_number": 32,
       "text": [
        "Union(Int64,MathConst{:\u03c0})"
       ]
      }
     ],
     "prompt_number": 32
    },
    {
     "cell_type": "heading",
     "level": 3,
     "metadata": {},
     "source": [
      "Preventing Propogation"
     ]
    },
    {
     "cell_type": "markdown",
     "metadata": {},
     "source": [
      "We can add this to `isreturntypebasedonvalues` by giving failing functions a second chance. This means we can add another check after the loop that looks for non-concrete argument types."
     ]
    },
    {
     "cell_type": "code",
     "collapsed": false,
     "input": [
      "function isreturnbasedonvalues(e::Expr)\n",
      "    rt = returntype(e)\n",
      "    ts = TypeCheck.argtypes(e)\n",
      "\n",
      "    if isleaftype(rt) || rt == None\n",
      "      return false\n",
      "    end\n",
      "    for t in ts\n",
      "     if !isleaftype(t)\n",
      "       return false\n",
      "     end\n",
      "    end\n",
      "\n",
      "    #a second chance\n",
      "    #cs is a list of return types for calls in :return exprs in e's body\n",
      "    cs = [TypeCheck.find_returntype(c,e) for c in TypeCheck.extract_calls_from_returns(e)]\n",
      "    for c in cs\n",
      "     if rt == c #if e's return type is the same as a call it's making, then it passes\n",
      "         return false\n",
      "      end\n",
      "    end\n",
      "\n",
      "    return true #e fails the test\n",
      "  end"
     ],
     "language": "python",
     "metadata": {},
     "outputs": [
      {
       "metadata": {},
       "output_type": "pyout",
       "prompt_number": 41,
       "text": [
        "isreturnbasedonvalues (generic function with 1 method)"
       ]
      }
     ],
     "prompt_number": 41
    },
    {
     "cell_type": "markdown",
     "metadata": {},
     "source": [
      "Above, I use two new helper functions `find_returntype` and `extract_calls_from_returns`.\n",
      "`extract_calls_from_returns` is not expecially interesting; it just examines the insides of `:return` `Expr`s for `:call` `Expr`s.\n",
      "`find_returntype` is more interesting, and I will explain it below."
     ]
    },
    {
     "cell_type": "heading",
     "level": 4,
     "metadata": {},
     "source": [
      "Results:"
     ]
    },
    {
     "cell_type": "code",
     "collapsed": false,
     "input": [
      "isreturnbasedonvalues(code_typed(foo,(Int,))[1]) #passes"
     ],
     "language": "python",
     "metadata": {},
     "outputs": [
      {
       "metadata": {},
       "output_type": "pyout",
       "prompt_number": 37,
       "text": [
        "false"
       ]
      }
     ],
     "prompt_number": 37
    },
    {
     "cell_type": "code",
     "collapsed": false,
     "input": [
      "isreturnbasedonvalues(code_typed(f1,(Int,))[1]) #fails"
     ],
     "language": "python",
     "metadata": {},
     "outputs": [
      {
       "metadata": {},
       "output_type": "pyout",
       "prompt_number": 38,
       "text": [
        "true"
       ]
      }
     ],
     "prompt_number": 38
    },
    {
     "cell_type": "code",
     "collapsed": false,
     "input": [
      "isreturnbasedonvalues(code_typed(f2,(Int,))[1]) #passes"
     ],
     "language": "python",
     "metadata": {},
     "outputs": [
      {
       "metadata": {},
       "output_type": "pyout",
       "prompt_number": 40,
       "text": [
        "false"
       ]
      }
     ],
     "prompt_number": 40
    },
    {
     "cell_type": "heading",
     "level": 2,
     "metadata": {},
     "source": [
      "Determining the Return Type of a `:call`"
     ]
    },
    {
     "cell_type": "markdown",
     "metadata": {},
     "source": [
      "Here, we start with the output of `extract_calls_from_returns`."
     ]
    },
    {
     "cell_type": "code",
     "collapsed": false,
     "input": [
      "cs = TypeCheck.extract_calls_from_returns(code_typed(f2,(Int,))[1])"
     ],
     "language": "python",
     "metadata": {},
     "outputs": [
      {
       "metadata": {},
       "output_type": "pyout",
       "prompt_number": 44,
       "text": [
        "1-element Array{Expr,1}:\n",
        " :(f1(top(box)(Int64,top(add_int)(y::Int64,2))::Int64)::Union(Int64,MathConst{:\u03c0}))"
       ]
      }
     ],
     "prompt_number": 44
    },
    {
     "cell_type": "markdown",
     "metadata": {},
     "source": [
      "From this, we need to extract the types of the arguments it is being called with. (We need this to determine which method would be called.)"
     ]
    },
    {
     "cell_type": "code",
     "collapsed": false,
     "input": [
      "cs[1].args[2]"
     ],
     "language": "python",
     "metadata": {},
     "outputs": [
      {
       "metadata": {},
       "output_type": "pyout",
       "prompt_number": 46,
       "text": [
        ":(top(box)(Int64,top(add_int)(y::Int64,2))::Int64)"
       ]
      }
     ],
     "prompt_number": 46
    },
    {
     "cell_type": "markdown",
     "metadata": {},
     "source": [
      "The above gets us the first argument to the `:call`, but it is still a whole `Expr`, not a simple value. Luckily, as you can see at the end, it has been annotated with an inferred type already."
     ]
    },
    {
     "cell_type": "code",
     "collapsed": false,
     "input": [
      "cs[1].args[2].args[2]"
     ],
     "language": "python",
     "metadata": {},
     "outputs": [
      {
       "metadata": {},
       "output_type": "pyout",
       "prompt_number": 47,
       "text": [
        ":Int64"
       ]
      }
     ],
     "prompt_number": 47
    },
    {
     "cell_type": "markdown",
     "metadata": {},
     "source": [
      "Thus for this example, we know that it is the function named `cs[1].args[1]` being called with `cs[1].args[2].args[2]`."
     ]
    },
    {
     "cell_type": "code",
     "collapsed": false,
     "input": [
      "println(cs[1].args[1])\n",
      "println(cs[1].args[2].args[2])"
     ],
     "language": "python",
     "metadata": {},
     "outputs": [
      {
       "output_type": "stream",
       "stream": "stdout",
       "text": [
        "f1\n"
       ]
      },
      {
       "output_type": "stream",
       "stream": "stdout",
       "text": [
        "Int64\n"
       ]
      }
     ],
     "prompt_number": 48
    },
    {
     "cell_type": "markdown",
     "metadata": {},
     "source": [
      "However, for this `cs[1]`, the type inference has already provided a return type -- `Union(Int64,MathConst{:\u03c0})`."
     ]
    },
    {
     "cell_type": "code",
     "collapsed": false,
     "input": [
      "cs[1].typ"
     ],
     "language": "python",
     "metadata": {},
     "outputs": [
      {
       "metadata": {},
       "output_type": "pyout",
       "prompt_number": 49,
       "text": [
        "Union(Int64,MathConst{:\u03c0})"
       ]
      }
     ],
     "prompt_number": 49
    },
    {
     "cell_type": "markdown",
     "metadata": {},
     "source": [
      "Since there can be some digging around in the `Expr`s and other `Expr`-like things (`Symbol`s,`Int`s, etc) that occur in `:call` arugments, I wrote `find_returntype` to encapsulate that logic."
     ]
    },
    {
     "cell_type": "code",
     "collapsed": false,
     "input": [
      "function find_returntype(e::Expr,context::Expr) #must be :call,:new,:call1\n",
      "  if Base.is_expr(e,:new); return e.typ; end\n",
      "  if Base.is_expr(e,:call1) && isa(e.args[1], TopNode); return e.typ; end\n",
      "  if !Base.is_expr(e,:call); error(\"Expected :call Expr\"); end\n",
      "\n",
      "  if is_top(e)\n",
      "    return e.typ\n",
      "  end\n",
      "\n",
      "  callee = e.args[1]\n",
      "  if is_top(callee)\n",
      "    return find_returntype(callee,context)\n",
      "  elseif isa(callee,SymbolNode) # only seen (func::F), so non-generic function\n",
      "    return Any\n",
      "  elseif is(callee,Symbol)\n",
      "    if e.typ != Any || any([isa(x,LambdaStaticData) for x in e.args[2:end]])\n",
      "      return e.typ\n",
      "    end\n",
      "\n",
      "    if isdefined(Base,callee)\n",
      "      f = eval(Base,callee)\n",
      "      if !isa(f,Function) || !isgeneric(f)\n",
      "        return e.typ\n",
      "      end\n",
      "      fargtypes = tuple([find_argtype(ea,context) for ea in e.args[2:end]])\n",
      "      return Union([returntype(ef) for ef in code_typed(f,fargtypes)]...)\n",
      "    else\n",
      "      return @show e.typ\n",
      "    end\n",
      "  end\n",
      "\n",
      "  return e.typ\n",
      "end"
     ],
     "language": "python",
     "metadata": {},
     "outputs": [
      {
       "metadata": {},
       "output_type": "pyout",
       "prompt_number": 50,
       "text": [
        "find_returntype (generic function with 1 method)"
       ]
      }
     ],
     "prompt_number": 50
    },
    {
     "cell_type": "heading",
     "level": 3,
     "metadata": {},
     "source": [
      "Deciding If It's Not This Function's Fault"
     ]
    },
    {
     "cell_type": "markdown",
     "metadata": {},
     "source": [
      "If a function is calling another with concrete types, there will only be one possible method to get called.\n",
      "In that case, it is probably the callee's fault that the return type is bad.\n",
      "\n",
      "If a function is calling another with looser types, there may be multiple possible methods that could get called.\n",
      "In that case, the way the second function is being used may be causing the problem.\n",
      "If the arguments to the caller are all concrete, where is it getting an abstract type to call this other function?"
     ]
    },
    {
     "cell_type": "markdown",
     "metadata": {},
     "source": [
      "However, if you are just trying to see if one function is type-stable, you might care about `foo`'s unstability, even if it's really `barr`'s fault."
     ]
    },
    {
     "cell_type": "heading",
     "level": 1,
     "metadata": {},
     "source": [
      "Stable Types Inside Loops"
     ]
    },
    {
     "cell_type": "markdown",
     "metadata": {},
     "source": [
      "In Julia, for-loops are generally the fastest way to write code. (Faster than vectorized code; faster than maps or folds.)\n",
      "One way to accidentally decrease their performance is to change the type of a variable in the loop.\n",
      "If all the variables in a loop have stable types, then the code Julia outputs will be the same tight, fast code as a typed, compiled language.\n",
      "If any variable has a type that changes, slower dynamic code will be produced to handle that."
     ]
    },
    {
     "cell_type": "markdown",
     "metadata": {},
     "source": [
      "It can be easy to write code that has this problem, if you're not aware of it, even in simple programs."
     ]
    },
    {
     "cell_type": "code",
     "collapsed": false,
     "input": [
      "x = 5 # x is an Int\n",
      "for i=1:1000\n",
      " x += 100\n",
      " x /= 2 # x is a Float64\n",
      "end \n",
      "x #x is a Float64"
     ],
     "language": "python",
     "metadata": {},
     "outputs": [
      {
       "metadata": {},
       "output_type": "pyout",
       "prompt_number": 26,
       "text": [
        "100.0"
       ]
      }
     ],
     "prompt_number": 26
    },
    {
     "cell_type": "markdown",
     "metadata": {},
     "source": [
      "In this code example, `x` begins life as an `Int`. In the first iteration of the loop, `x += 100` takes `x` as an `Int` and returns an `Int`; `x /= 2` takes this new `Int` and returns a `Float64`. After this, `x` will be a `Float64` for all the remaining iterations of the loop. This means that the extra dynamic code that is needed to handle `x` being either an `Int` or a `Float64` slows down all the iterations, despite only being needed for the first one. This can be fixed by making `x` a `Float64` from the start: `x = 5.0`."
     ]
    },
    {
     "cell_type": "code",
     "collapsed": false,
     "input": [
      "x = 5.0 # x is a Float64\n",
      "for i=1:1000\n",
      " x += 100\n",
      " x /= 2 # x is a Float64\n",
      "end \n",
      "x #x is a Float64"
     ],
     "language": "python",
     "metadata": {},
     "outputs": [
      {
       "metadata": {},
       "output_type": "pyout",
       "prompt_number": 27,
       "text": [
        "100.0"
       ]
      }
     ],
     "prompt_number": 27
    },
    {
     "cell_type": "markdown",
     "metadata": {},
     "source": [
      "Variables whose types change in loops can be detected in generic functions by looking at the output of `code_typed`.\n",
      "Since loops are lowered to gotos, we need to first find the loops and then check the types of the variables involved.\n",
      "Finding loops can be as simple as looking for gotos that jump backwards in the function: gotos whose labels precede them.\n",
      "Each instruction between the goto and its label is part of the loop body.\n",
      "For each instruction in the loop body, we can look at the inferred type of any variables involved.\n",
      "If the inferred type is a UnionType (or not a leaf type), then the variable's type is unstable."
     ]
    },
    {
     "cell_type": "heading",
     "level": 2,
     "metadata": {},
     "source": [
      "Collecting the Contents of a Loop"
     ]
    },
    {
     "cell_type": "markdown",
     "metadata": {},
     "source": [
      "Let's begin by defining an example function to work with."
     ]
    },
    {
     "cell_type": "code",
     "collapsed": false,
     "input": [
      "function bar(x::Int)\n",
      "  for i=1:1000\n",
      "    x += 100\n",
      "    x /= 2\n",
      "  end\n",
      "  x\n",
      "end"
     ],
     "language": "python",
     "metadata": {},
     "outputs": [
      {
       "metadata": {},
       "output_type": "pyout",
       "prompt_number": 38,
       "text": [
        "bar (generic function with 1 method)"
       ]
      }
     ],
     "prompt_number": 38
    },
    {
     "cell_type": "markdown",
     "metadata": {},
     "source": [
      "The goal is to write a function that takes a method of a generic function and extracts the typed body of any loops.\n",
      "First, we can get the typed body of the function."
     ]
    },
    {
     "cell_type": "code",
     "collapsed": false,
     "input": [
      "b = body(bar,(Int,))[1]"
     ],
     "language": "python",
     "metadata": {},
     "outputs": [
      {
       "metadata": {},
       "output_type": "pyout",
       "prompt_number": 40,
       "text": [
        "16-element Array{Any,1}:\n",
        " :( # In[38], line 2:)                                       \n",
        " :(#s79 = 1)                                                 \n",
        " :(1: )                                                      \n",
        " :(unless top(sle_int)(#s79::Int64,1000)::Bool goto 2)       \n",
        " :(i = #s79::Int64)                                          \n",
        " :( # line 3:)                                               \n",
        " :(x = +(x::Union(Int64,Float64),100)::Union(Int64,Float64)) \n",
        " :( # line 4:)                                               \n",
        " :(x = /(x::Union(Int64,Float64),2)::Float64)                \n",
        " :(3: )                                                      \n",
        " :(#s79 = top(box)(Int64,top(add_int)(1,#s79::Int64))::Int64)\n",
        " :(goto 1)                                                   \n",
        " :(2: )                                                      \n",
        " :(0: )                                                      \n",
        " :( # line 6:)                                               \n",
        " :(return x::Union(Int64,Float64))                           "
       ]
      }
     ],
     "prompt_number": 40
    },
    {
     "cell_type": "markdown",
     "metadata": {},
     "source": [
      "The above is an array of `Expr`s and other expression types.\n",
      "We want to find out if, for each `goto` and `unless`, whether their destination label comes before them.\n",
      "Another way to do this is to look at all labels, and check for `goto`s that jump back to each one.\n",
      "While checking to see if we're in a loop, we'll also need to deal with nested loops and knowing when we've finished our loop."
     ]
    },
    {
     "cell_type": "code",
     "collapsed": false,
     "input": [
      "inloops = 0\n",
      "ends = Int[]\n",
      "loopbody = {}\n",
      "for i in 1:length(b)\n",
      "  if typeof(b[i]) == LabelNode\n",
      "    l = b[i].label\n",
      "    jumpback = findnext(x -> typeof(x) == GotoNode && x.label == l, b, i)\n",
      "    if jumpback !=0 #then there's a goto that jumps here\n",
      "      println(\"loop from $i to $jumpback\")\n",
      "      push!(ends,jumpback)\n",
      "      inloops += 1\n",
      "    end\n",
      "  end\n",
      " \n",
      "  if inloops > 0\n",
      "    println(\"\\t$(b[i])\")\n",
      "    push!(loopbody,b[i])\n",
      "  end\n",
      "\n",
      "  if i in ends\n",
      "    splice!(ends,findfirst(ends,i))\n",
      "    inloops -= 1\n",
      "  end\n",
      " \n",
      "end"
     ],
     "language": "python",
     "metadata": {},
     "outputs": [
      {
       "output_type": "stream",
       "stream": "stdout",
       "text": [
        "loop from 3 to 12\n"
       ]
      },
      {
       "output_type": "stream",
       "stream": "stdout",
       "text": [
        "\t:(1: )\n",
        "\t:(unless top(sle_int)(#s79::Int64,1000)::Bool goto 2)\n",
        "\t:(i = #s79::Int64)\n",
        "\t:( # line 3:)\n",
        "\t:(x = +(x::Union(Int64,Float64),100)::Union(Int64,Float64))\n",
        "\t:( # line 4:)\n",
        "\t:(x = /(x::Union(Int64,Float64),2)::Float64)\n",
        "\t:(3: )\n",
        "\t:(#s79 = top(box)(Int64,top(add_int)(1,#s79::Int64))::Int64)\n",
        "\t:(goto 1)\n"
       ]
      }
     ],
     "prompt_number": 44
    },
    {
     "cell_type": "markdown",
     "metadata": {},
     "source": [
      "We still have a lot of noise here, in the form of line numbers and irrelevant labels."
     ]
    },
    {
     "cell_type": "code",
     "collapsed": false,
     "input": [
      "typeof(loopbody[1]) #:(1: )"
     ],
     "language": "python",
     "metadata": {},
     "outputs": [
      {
       "metadata": {},
       "output_type": "pyout",
       "prompt_number": 31,
       "text": [
        "LabelNode"
       ]
      }
     ],
     "prompt_number": 31
    },
    {
     "cell_type": "code",
     "collapsed": false,
     "input": [
      "typeof(loopbody[4]) #:( # line 3:)"
     ],
     "language": "python",
     "metadata": {},
     "outputs": [
      {
       "metadata": {},
       "output_type": "pyout",
       "prompt_number": 32,
       "text": [
        "LineNumberNode"
       ]
      }
     ],
     "prompt_number": 32
    },
    {
     "cell_type": "code",
     "collapsed": false,
     "input": [
      "filter(x -> typeof(x) != LineNumberNode && typeof(x) != LabelNode, loopbody)"
     ],
     "language": "python",
     "metadata": {},
     "outputs": [
      {
       "metadata": {},
       "output_type": "pyout",
       "prompt_number": 45,
       "text": [
        "6-element Array{Any,1}:\n",
        " :(unless top(sle_int)(#s79::Int64,1000)::Bool goto 2)       \n",
        " :(i = #s79::Int64)                                          \n",
        " :(x = +(x::Union(Int64,Float64),100)::Union(Int64,Float64)) \n",
        " :(x = /(x::Union(Int64,Float64),2)::Float64)                \n",
        " :(#s79 = top(box)(Int64,top(add_int)(1,#s79::Int64))::Int64)\n",
        " :(goto 1)                                                   "
       ]
      }
     ],
     "prompt_number": 45
    },
    {
     "cell_type": "markdown",
     "metadata": {},
     "source": [
      "This is quite nice. We have the `unless` that contains the exit condition for the for loop, we have the loop variable `i` and `#s79`, and we have the two function calls that modify `x`."
     ]
    },
    {
     "cell_type": "code",
     "collapsed": false,
     "input": [
      "  # This is a function for trying to detect loops in a method of a generic function\n",
      "  # It takes the same arguments as code_typed\n",
      "  # And returns the lines that are inside one or more loops\n",
      "  function loopcontents(args...)\n",
      "    e = code_typed(args...)[1]\n",
      "    body = e.args[3].args\n",
      "    loops = Int[]\n",
      "    nesting = 0\n",
      "    lines = {}\n",
      "    for i in 1:length(body)\n",
      "      if typeof(body[i]) == LabelNode\n",
      "        l = body[i].label\n",
      "        jumpback = findnext(x-> typeof(x) == GotoNode && x.label == l, body, i)\n",
      "        if jumpback != 0\n",
      "          #println(\"$i: START LOOP: ends at $jumpback\")\n",
      "          push!(loops,jumpback)\n",
      "          nesting += 1\n",
      "        end\n",
      "      end\n",
      "\n",
      "      if nesting > 0\n",
      "        #if typeof(body[i]) == Expr\n",
      "        #  println(\"$i: \\t\", body[i])\n",
      "        #elseif typeof(body[i]) == LabelNode || typeof(body[i]) == GotoNode\n",
      "        #  println(\"$i: \", typeof(body[i]), \" \", body[i].label)\n",
      "        #elseif typeof(body[i]) != LineNumberNode\n",
      "        #  println(\"$i: \", typeof(body[i]))\n",
      "        #end\n",
      "        push!(lines,(i,body[i]))\n",
      "      end\n",
      "\n",
      "      if typeof(body[i]) == GotoNode && in(i,loops)\n",
      "        splice!(loops,findfirst(loops,i))\n",
      "        nesting -= 1\n",
      "        #println(\"$i: END LOOP: jumps to \",body[i].label)\n",
      "      end\n",
      "    end\n",
      "    lines\n",
      "  end"
     ],
     "language": "python",
     "metadata": {},
     "outputs": [
      {
       "metadata": {},
       "output_type": "pyout",
       "prompt_number": 34,
       "text": [
        "loopcontents (generic function with 1 method)"
       ]
      }
     ],
     "prompt_number": 34
    },
    {
     "cell_type": "code",
     "collapsed": false,
     "input": [
      "  function find_loose_types(arr::Vector)\n",
      "    lines = ASCIIString[]\n",
      "    for (i,e) in arr\n",
      "      if typeof(e) == Expr\n",
      "        es = copy(e.args)\n",
      "        while !isempty(es)\n",
      "          e1 = pop!(es)\n",
      "          if typeof(e1) == Expr\n",
      "            append!(es,e1.args)\n",
      "          elseif typeof(e1) == SymbolNode && !isleaftype(e1.typ) && typeof(e1.typ) == UnionType\n",
      "            push!(lines,\"\\t\\t$i: $(e1.name): $(e1.typ)\")\n",
      "          end \n",
      "        end                          \n",
      "      end\n",
      "    end\n",
      "    isempty(lines) ? lines : unshift!(lines,\"\")\n",
      "  end\n"
     ],
     "language": "python",
     "metadata": {},
     "outputs": [
      {
       "metadata": {},
       "output_type": "pyout",
       "prompt_number": 35,
       "text": [
        "find_loose_types (generic function with 1 method)"
       ]
      }
     ],
     "prompt_number": 35
    },
    {
     "cell_type": "heading",
     "level": 1,
     "metadata": {},
     "source": [
      "Statically Detecting `NoMethodError`s"
     ]
    },
    {
     "cell_type": "markdown",
     "metadata": {},
     "source": [
      "The most obviously useful kind of type checking in Julia is to prevent \"No Method Error\"s. This presents a challenge: methods are often added to generic functions after the fact in Julia, so this checking must be done with as much awareness as possible of the environment in which the call will be made in order to avoid false positives."
     ]
    },
    {
     "cell_type": "markdown",
     "metadata": {},
     "source": [
      "I have not yet implemented this because I don't know how to get into the proper context to make the check. I could write first version which ignores this problem."
     ]
    },
    {
     "cell_type": "code",
     "collapsed": false,
     "input": [
      "type CallSignature\n",
      "  name::Symbol\n",
      "  argtypes::Array{DataType,1}\n",
      "end"
     ],
     "language": "python",
     "metadata": {},
     "outputs": [],
     "prompt_number": 36
    },
    {
     "cell_type": "code",
     "collapsed": false,
     "input": [
      "function find_no_method_errors(args...;mod=None)\n",
      "  callsigs = find_method_calls(args...)\n",
      "  output = (Function,CallSignature)[]\n",
      "  for callsig in callsigs\n",
      "    f = mod == None ? eval(callsig.name) : eval(mod,callsig.name)\n",
      "    options = methods(f,tuple(callsig.argtypes...))\n",
      "    if length(options) == 0\n",
      "      push!(output,(f,callsig))\n",
      "    end\n",
      "  end\n",
      "  output\n",
      "end"
     ],
     "language": "python",
     "metadata": {},
     "outputs": [
      {
       "metadata": {},
       "output_type": "pyout",
       "prompt_number": 37,
       "text": [
        "find_no_method_errors (generic function with 1 method)"
       ]
      }
     ],
     "prompt_number": 37
    },
    {
     "cell_type": "code",
     "collapsed": false,
     "input": [
      "function find_method_calls(args...)\n",
      "  e = code_typed(args...)[1]\n",
      "  body = e.args[3].args\n",
      "  lines = CallSignature[]\n",
      "  for b in body\n",
      "    if typeof(b) == Expr\n",
      "      if b.head == :return # want to catch function calls nested in a return\n",
      "        append!(body,b.args)\n",
      "      elseif b.head == :call\n",
      "        if typeof(b.args[1]) == Symbol\n",
      "          #@show b.args, typeof(b.args[3])\n",
      "          cs = CallSignature(b.args[1],[typeof(e) == Expr ? e.typ :\n",
      "            typeof(e) == Symbol ? Any :\n",
      "            typeof(e) for e in b.args[2:]])\n",
      "          push!(lines,cs)\n",
      "        end\n",
      "      end\n",
      "    end\n",
      "  end\n",
      "  lines\n",
      "end"
     ],
     "language": "python",
     "metadata": {},
     "outputs": [
      {
       "metadata": {},
       "output_type": "pyout",
       "prompt_number": 38,
       "text": [
        "find_method_calls (generic function with 1 method)"
       ]
      }
     ],
     "prompt_number": 38
    },
    {
     "cell_type": "code",
     "collapsed": false,
     "input": [
      "function aba(x)\n",
      "  2\n",
      "end\n",
      "function aba(x,y::Float64)\n",
      "  3.14\n",
      "end\n",
      "function foo(x)\n",
      "  aba(x,4)\n",
      "end"
     ],
     "language": "python",
     "metadata": {},
     "outputs": [
      {
       "metadata": {},
       "output_type": "pyout",
       "prompt_number": 39,
       "text": [
        "foo (generic function with 2 methods)"
       ]
      }
     ],
     "prompt_number": 39
    },
    {
     "cell_type": "code",
     "collapsed": false,
     "input": [
      "c = find_no_method_errors(foo,(Float64,))"
     ],
     "language": "python",
     "metadata": {},
     "outputs": [
      {
       "metadata": {},
       "output_type": "pyout",
       "prompt_number": 42,
       "text": [
        "1-element Array{(Function,CallSignature),1}:\n",
        " (aba,CallSignature(:aba,[SymbolNode,Int64]))"
       ]
      }
     ],
     "prompt_number": 42
    },
    {
     "cell_type": "code",
     "collapsed": false,
     "input": [
      "code_typed(foo,(Number,))"
     ],
     "language": "python",
     "metadata": {},
     "outputs": [
      {
       "metadata": {},
       "output_type": "pyout",
       "prompt_number": 44,
       "text": [
        "2-element Array{Any,1}:\n",
        " :($(Expr(:lambda, {:x}, {{},{{:x,Int64,0}},{}}, quote  # In[12], line 2:\n",
        "        unless top(slt_int)(5,x::Int64)::Bool goto 0 # line 3:\n",
        "        return x::Int64\n",
        "        goto 1\n",
        "        0:  # In[12], line 5:\n",
        "        return false\n",
        "        1: \n",
        "    end)))\n",
        " :($(Expr(:lambda, {:x}, {{},{{:x,Number,0}},{}}, quote  # In[39], line 8:\n",
        "        return aba(x::Number,4)::None\n",
        "    end)))                                                                                                                              "
       ]
      }
     ],
     "prompt_number": 44
    },
    {
     "cell_type": "code",
     "collapsed": false,
     "input": [],
     "language": "python",
     "metadata": {},
     "outputs": []
    }
   ],
   "metadata": {}
  }
 ]
}